{
 "cells": [
  {
   "cell_type": "code",
   "execution_count": 21,
   "metadata": {},
   "outputs": [],
   "source": [
    "%matplotlib inline\n",
    "import os\n",
    "from glob import glob\n",
    "import numpy as np\n",
    "import pandas as pd"
   ]
  },
  {
   "cell_type": "code",
   "execution_count": 18,
   "metadata": {},
   "outputs": [],
   "source": [
    "# helper functions\n",
    "# - wrapper around reader functions to return a single combined dataframe\n",
    "from mmctools.dataloaders import read_dir, read_date_dirs, read_files\n",
    "# - more sophisticated data readers for when default pd.read_csv() doesn't cut it\n",
    "from mmctools.measurements.radar import profiler # see mmctools.measurements.*"
   ]
  },
  {
   "cell_type": "markdown",
   "metadata": {},
   "source": [
    "# Example: Data processing\n",
    "Result of this notebook should be a dataframe with standard output variables and format"
   ]
  },
  {
   "cell_type": "markdown",
   "metadata": {},
   "source": [
    "## Setup"
   ]
  },
  {
   "cell_type": "code",
   "execution_count": 16,
   "metadata": {},
   "outputs": [],
   "source": [
    "# dataset name format: project/class.instance.level\n",
    "dataset = 'wfip2/radar.z04.b0' \n",
    "startdate = pd.to_datetime('2016-11-01')\n",
    "enddate = pd.to_datetime('2016-11-30')\n",
    "\n",
    "# optional dataset file specs\n",
    "dataext = 'txt' # file type, dictated by extension\n",
    "dataext1 = 'winds' # e.g., *.winds.txt\n",
    "\n",
    "download_path = 'data'\n",
    "overwrite_files = False # force download even if files already exist"
   ]
  },
  {
   "cell_type": "markdown",
   "metadata": {},
   "source": [
    "## Download data from the DAP"
   ]
  },
  {
   "cell_type": "code",
   "execution_count": 17,
   "metadata": {},
   "outputs": [
    {
     "name": "stdout",
     "output_type": "stream",
     "text": [
      "Data path: data/wfip2.radar.z04.b0\n"
     ]
    }
   ],
   "source": [
    "datapath = os.path.join(download_path, dataset.replace('/','.'))\n",
    "print('Data path:',datapath)"
   ]
  },
  {
   "cell_type": "code",
   "execution_count": 12,
   "metadata": {},
   "outputs": [
    {
     "name": "stdout",
     "output_type": "stream",
     "text": [
      "Certificate is setup\n",
      "Valid certificate already created\n",
      "697 data files selected\n",
      "Could not place order\n",
      "Server Returned Bad Status Code\n",
      "Status Code: 400\n",
      "Reason: files must share a dataset\n",
      "No files were downloaded; need to manually download files to data\n"
     ]
    }
   ],
   "source": [
    "try:\n",
    "    import A2e\n",
    "except ImportError:\n",
    "    print('dap-py module not available; need to manually download files to '+datapath)\n",
    "else:\n",
    "    a2e = A2e.A2e()\n",
    "    a2e.setup_cert_auth()\n",
    "    filter_arg = {\n",
    "        'Dataset': dataset,\n",
    "        'date_time': {\n",
    "            'between': [startdate.strftime('%Y%m%d%H%M%S'), enddate.strftime('%Y%m%d%H%M%S')]\n",
    "        }\n",
    "    }\n",
    "    if dataext:\n",
    "        filter_arg['file_type'] = dataext\n",
    "    if dataext1:\n",
    "        filter_arg['ext1'] = dataext1\n",
    "    datafiles = a2e.search(filter_arg)\n",
    "    print(len(datafiles),'data files selected')\n",
    "    filelist = a2e.download_files(datafiles, path=download_path, force=overwrite_files)\n",
    "    if filelist is None:\n",
    "        print('No files were downloaded; need to manually download files to '+datapath)"
   ]
  },
  {
   "cell_type": "code",
   "execution_count": null,
   "metadata": {},
   "outputs": [],
   "source": []
  },
  {
   "cell_type": "markdown",
   "metadata": {},
   "source": [
    "## Process the downloaded files"
   ]
  },
  {
   "cell_type": "markdown",
   "metadata": {},
   "source": [
    "read a single directory"
   ]
  },
  {
   "cell_type": "code",
   "execution_count": null,
   "metadata": {},
   "outputs": [],
   "source": [
    "%time df = read_dir(os.path.join(datapath,'201611'), reader=profiler, file_filter='*.txt',\n",
    "                    # additional reader arguments:\n",
    "                    parse_dates=['date_time'])"
   ]
  },
  {
   "cell_type": "markdown",
   "metadata": {},
   "source": [
    "read subdirectories with specified date format"
   ]
  },
  {
   "cell_type": "code",
   "execution_count": null,
   "metadata": {},
   "outputs": [],
   "source": [
    "%time df = read_date_dirs(datapath, reader=profiler, expected_date_format='%Y%m', ext='txt',\n",
    "                          # additional reader arguments:\n",
    "                          parse_dates=['date_time'])"
   ]
  },
  {
   "cell_type": "markdown",
   "metadata": {},
   "source": [
    "read list of file paths"
   ]
  },
  {
   "cell_type": "code",
   "execution_count": 5,
   "metadata": {},
   "outputs": [
    {
     "name": "stdout",
     "output_type": "stream",
     "text": [
      "Processing /Users/equon/WFIP2/Wasco/radar.z04.b0/201602\n",
      "  168 dataframes added\n",
      "Processing /Users/equon/WFIP2/Wasco/radar.z04.b0/201603\n",
      "  744 dataframes added\n",
      "Processing /Users/equon/WFIP2/Wasco/radar.z04.b0/201604\n",
      "  720 dataframes added\n",
      "Processing /Users/equon/WFIP2/Wasco/radar.z04.b0/201605\n",
      "  744 dataframes added\n",
      "Processing /Users/equon/WFIP2/Wasco/radar.z04.b0/201606\n",
      "  719 dataframes added\n",
      "Processing /Users/equon/WFIP2/Wasco/radar.z04.b0/201607\n",
      "  744 dataframes added\n",
      "Processing /Users/equon/WFIP2/Wasco/radar.z04.b0/201608\n",
      "  744 dataframes added\n",
      "Processing /Users/equon/WFIP2/Wasco/radar.z04.b0/201609\n",
      "  0 dataframes added\n",
      "Processing /Users/equon/WFIP2/Wasco/radar.z04.b0/201610\n",
      "  0 dataframes added\n",
      "Processing /Users/equon/WFIP2/Wasco/radar.z04.b0/201611\n",
      "  0 dataframes added\n",
      "Processing /Users/equon/WFIP2/Wasco/radar.z04.b0/201612\n",
      "  0 dataframes added\n",
      "CPU times: user 33.2 s, sys: 1.08 s, total: 34.3 s\n",
      "Wall time: 39.7 s\n"
     ]
    }
   ],
   "source": [
    "%time df = read_files(filelist, reader=profiler,\n",
    "                      # additional reader arguments:\n",
    "                      parse_dates=['date_time']\n",
    "                     )"
   ]
  },
  {
   "cell_type": "code",
   "execution_count": null,
   "metadata": {},
   "outputs": [],
   "source": []
  }
 ],
 "metadata": {
  "kernelspec": {
   "display_name": "Python 3",
   "language": "python",
   "name": "python3"
  },
  "language_info": {
   "codemirror_mode": {
    "name": "ipython",
    "version": 3
   },
   "file_extension": ".py",
   "mimetype": "text/x-python",
   "name": "python",
   "nbconvert_exporter": "python",
   "pygments_lexer": "ipython3",
   "version": "3.7.1"
  }
 },
 "nbformat": 4,
 "nbformat_minor": 2
}
