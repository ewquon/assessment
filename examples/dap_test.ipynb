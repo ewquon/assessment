{
 "cells": [
  {
   "cell_type": "code",
   "execution_count": 1,
   "metadata": {},
   "outputs": [],
   "source": [
    "import A2e\n",
    "import pandas as pd"
   ]
  },
  {
   "cell_type": "code",
   "execution_count": 2,
   "metadata": {},
   "outputs": [],
   "source": [
    "dataset = 'wfip2/radar.z04.b0' \n",
    "startdate = pd.to_datetime('2016-11-01')\n",
    "enddate = pd.to_datetime('2016-11-30')"
   ]
  },
  {
   "cell_type": "code",
   "execution_count": 3,
   "metadata": {},
   "outputs": [
    {
     "name": "stdout",
     "output_type": "stream",
     "text": [
      "['20161101000000', '20161130000000']\n"
     ]
    }
   ],
   "source": [
    "daterange = [startdate.strftime('%Y%m%d%H%M%S'), enddate.strftime('%Y%m%d%H%M%S')]\n",
    "print(daterange)"
   ]
  },
  {
   "cell_type": "code",
   "execution_count": 4,
   "metadata": {},
   "outputs": [
    {
     "name": "stdout",
     "output_type": "stream",
     "text": [
      "Certificate is setup\n",
      "Valid certificate already created\n"
     ]
    },
    {
     "data": {
      "text/plain": [
       "True"
      ]
     },
     "execution_count": 4,
     "metadata": {},
     "output_type": "execute_result"
    }
   ],
   "source": [
    "a2e = A2e.A2e()\n",
    "a2e.setup_cert_auth()"
   ]
  },
  {
   "cell_type": "markdown",
   "metadata": {},
   "source": [
    "## download *.winds.txt"
   ]
  },
  {
   "cell_type": "code",
   "execution_count": 5,
   "metadata": {},
   "outputs": [
    {
     "name": "stdout",
     "output_type": "stream",
     "text": [
      "697 data files selected\n"
     ]
    }
   ],
   "source": [
    "filter_arg = {\n",
    "    'Dataset': dataset,\n",
    "    'date_time': {\n",
    "        'between': daterange\n",
    "    },\n",
    "    'file_type': 'txt',\n",
    "    'ext1': 'winds',\n",
    "}\n",
    "datafiles = a2e.search(filter_arg)\n",
    "print(len(datafiles),'data files selected')"
   ]
  },
  {
   "cell_type": "code",
   "execution_count": 6,
   "metadata": {},
   "outputs": [
    {
     "name": "stdout",
     "output_type": "stream",
     "text": [
      "Could not place order\n",
      "Server Returned Bad Status Code\n",
      "Status Code: 400\n",
      "Reason: files must share a dataset\n"
     ]
    }
   ],
   "source": [
    "a2e.download_files(datafiles, path='.')"
   ]
  },
  {
   "cell_type": "code",
   "execution_count": 7,
   "metadata": {},
   "outputs": [
    {
     "data": {
      "text/plain": [
       "['26d78f8b6a.0/wfip2/radar.z04.b0.20161101.000000.winds.txt',\n",
       " '90343c6624.0/wfip2/radar.z04.b0.20161101.010000.winds.txt',\n",
       " '08a44e01fa.0/wfip2/radar.z04.b0.20161101.020000.winds.txt',\n",
       " 'a7f03d79c7.0/wfip2/radar.z04.b0.20161101.030000.winds.txt',\n",
       " 'a038ec9854.0/wfip2/radar.z04.b0.20161101.040000.winds.txt']"
      ]
     },
     "execution_count": 7,
     "metadata": {},
     "output_type": "execute_result"
    }
   ],
   "source": [
    "datafiles[:5]"
   ]
  },
  {
   "cell_type": "markdown",
   "metadata": {},
   "source": [
    "## select a2e files"
   ]
  },
  {
   "cell_type": "code",
   "execution_count": 8,
   "metadata": {},
   "outputs": [
    {
     "name": "stdout",
     "output_type": "stream",
     "text": [
      "1388 data files selected\n"
     ]
    }
   ],
   "source": [
    "filter_arg2 = {\n",
    "    'Dataset': dataset,\n",
    "    'date_time': {\n",
    "        'between': daterange\n",
    "    },\n",
    "    'a2eext': True,\n",
    "    'a2eext1':'417ns',\n",
    "}\n",
    "datafiles2 = a2e.search(filter_arg2)\n",
    "print(len(datafiles2),'data files selected')"
   ]
  },
  {
   "cell_type": "code",
   "execution_count": 9,
   "metadata": {},
   "outputs": [
    {
     "name": "stdout",
     "output_type": "stream",
     "text": [
      "Could not place order\n",
      "Server Returned Bad Status Code\n",
      "Status Code: 400\n",
      "Reason: files must share a dataset\n"
     ]
    }
   ],
   "source": [
    "a2e.download_files(datafiles2, path='.')"
   ]
  },
  {
   "cell_type": "code",
   "execution_count": 10,
   "metadata": {},
   "outputs": [
    {
     "data": {
      "text/plain": [
       "['6621c9c358.0/wfip2/radar.z04.b0.20161101.000000.winds.a2e.417ns.nc',\n",
       " 'd59edc65b9.0/wfip2/radar.z04.b0.20161101.000000.temp.txt.a2e.417ns.nc',\n",
       " '59b3e70ec5.0/wfip2/radar.z04.b0.20161101.010000.winds.a2e.417ns.nc',\n",
       " '1a3ad8a7ed.0/wfip2/radar.z04.b0.20161101.010000.temp.txt.a2e.417ns.nc',\n",
       " '6740ee64bb.0/wfip2/radar.z04.b0.20161101.020000.winds.a2e.417ns.nc']"
      ]
     },
     "execution_count": 10,
     "metadata": {},
     "output_type": "execute_result"
    }
   ],
   "source": [
    "datafiles2[:5]"
   ]
  },
  {
   "cell_type": "code",
   "execution_count": null,
   "metadata": {},
   "outputs": [],
   "source": []
  }
 ],
 "metadata": {
  "kernelspec": {
   "display_name": "Python 3",
   "language": "python",
   "name": "python3"
  },
  "language_info": {
   "codemirror_mode": {
    "name": "ipython",
    "version": 3
   },
   "file_extension": ".py",
   "mimetype": "text/x-python",
   "name": "python",
   "nbconvert_exporter": "python",
   "pygments_lexer": "ipython3",
   "version": "3.7.1"
  }
 },
 "nbformat": 4,
 "nbformat_minor": 2
}
