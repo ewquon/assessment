{
 "cells": [
  {
   "cell_type": "code",
   "execution_count": 1,
   "metadata": {},
   "outputs": [],
   "source": [
    "%load_ext autoreload\n",
    "%autoreload 2"
   ]
  },
  {
   "cell_type": "code",
   "execution_count": 2,
   "metadata": {},
   "outputs": [],
   "source": [
    "%matplotlib inline\n",
    "import os\n",
    "import numpy as np\n",
    "import pandas as pd"
   ]
  },
  {
   "cell_type": "code",
   "execution_count": 3,
   "metadata": {},
   "outputs": [],
   "source": [
    "# manually add a2e-mmc repos to PYTHONPATH if needed\n",
    "import sys\n",
    "module_path = os.path.join(os.environ['HOME'],'a2e-mmc')\n",
    "if module_path not in sys.path:\n",
    "    sys.path.append(module_path)"
   ]
  },
  {
   "cell_type": "code",
   "execution_count": 4,
   "metadata": {},
   "outputs": [],
   "source": [
    "# wrapper around reader functions to return a single combined dataframe\n",
    "from mmctools.dataloaders import read_files"
   ]
  },
  {
   "cell_type": "code",
   "execution_count": 5,
   "metadata": {},
   "outputs": [],
   "source": [
    "# more sophisticated data readers for when default pd.read_csv() doesn't cut it\n",
    "from mmctools.measurements import metmast as mm"
   ]
  },
  {
   "cell_type": "code",
   "execution_count": 6,
   "metadata": {},
   "outputs": [],
   "source": [
    "from mmctools.helper_functions import covariance"
   ]
  },
  {
   "cell_type": "code",
   "execution_count": 7,
   "metadata": {},
   "outputs": [],
   "source": [
    "from mmctools.plotting import plot_timehistory_at_height"
   ]
  },
  {
   "cell_type": "markdown",
   "metadata": {},
   "source": [
    "# Process met mast data from WFIP2/PS12\n",
    "written by [Eliot Quon](mailto:eliot.quon@nrel.gov)\n",
    "- Combine data from wfip2/met.z[28-31].b0 on Aug 21, 2016\n",
    "- Data were originally processed and cleaned by Tonya Martin (PNNL)\n",
    "- Met mast is located at 45.638004,-120.642973 and has 4 sonics on south- and west-facing booms at two heights:\n",
    "    - z28: south, 80m\n",
    "    - z29: west, 80m\n",
    "    - z30: south, 50m\n",
    "    - z31: west, 50m\n",
    "- Measurement constraints (from the [DAP](https://a2e.energy.gov/data/wfip2/met.z28.b0)):\n",
    "> During stable atmospheric conditions, turbulence intensity and atmospheric gradients often are small, approaching or exceeding the measurement resolution of sonic anemometers. Under these conditions, advection from beyond the normal fetch also can occur, making interpretation of the fluxes difficult. Notably, the Physics Site-12 tower sonic anemometer measurements can be affected when the wind blows through the tower structure. Some unusual biases in the vertical velocities measured at the Physics Site-12 tower with west wind conditions also have not been adequately explained."
   ]
  },
  {
   "cell_type": "code",
   "execution_count": 8,
   "metadata": {},
   "outputs": [],
   "source": [
    "# dataset name format: project/class.instance.level\n",
    "dataset_series = 'met.z{:02d}.b0'\n",
    "sonics = range(28,32)\n",
    "startdate = pd.to_datetime('2016-08-21')\n",
    "enddate = pd.to_datetime('2016-08-22')\n",
    "\n",
    "# optional dataset file specs\n",
    "dataext = 'txt' # file type, dictated by extension\n",
    "dataext1 = None  # 'winds' # e.g., *.winds.txt\n",
    "\n",
    "download_path = 'data'\n",
    "overwrite_files = False # force download even if files already exist"
   ]
  },
  {
   "cell_type": "code",
   "execution_count": 9,
   "metadata": {},
   "outputs": [],
   "source": [
    "sonic_heights = {\n",
    "    28: 80.,\n",
    "    29: 80.,\n",
    "    30: 50.,\n",
    "    31: 50.,\n",
    "}\n",
    "sonic_dirs = {\n",
    "    28: 's',\n",
    "    29: 'w',\n",
    "    30: 's',\n",
    "    31: 'w',\n",
    "}"
   ]
  },
  {
   "cell_type": "markdown",
   "metadata": {},
   "source": [
    "## Download data from the DAP\n",
    "This depends on the `a2e` module provided by the `dap-py` package (https://github.com/a2edap/dap-py). Current, the module is in beta, located within a private repo--contact [Matt Macduff](mailto:Matt.Macduff@pnnl.gov) for more information. "
   ]
  },
  {
   "cell_type": "code",
   "execution_count": 10,
   "metadata": {
    "scrolled": true
   },
   "outputs": [
    {
     "name": "stdout",
     "output_type": "stream",
     "text": [
      "No authentication found. Using guest credentials...\n",
      "username: quon\n",
      "password: ········\n",
      "Success!\n"
     ]
    },
    {
     "data": {
      "text/plain": [
       "True"
      ]
     },
     "execution_count": 10,
     "metadata": {},
     "output_type": "execute_result"
    }
   ],
   "source": [
    "import A2e\n",
    "a2e = A2e.A2e()\n",
    "a2e.setup_cert_auth()"
   ]
  },
  {
   "cell_type": "code",
   "execution_count": 11,
   "metadata": {},
   "outputs": [
    {
     "name": "stdout",
     "output_type": "stream",
     "text": [
      "25 data files selected from wfip2/met.z28.b0\n",
      "Download successful! data/wfip2.met.z28.b0/met.z28.b0.20160821.000000.sonic80ms.txt\n",
      "Download successful! data/wfip2.met.z28.b0/met.z28.b0.20160821.040000.sonic80ms.txt\n",
      "Download successful! data/wfip2.met.z28.b0/met.z28.b0.20160821.030000.sonic80ms.txt\n",
      "Download successful! data/wfip2.met.z28.b0/met.z28.b0.20160821.010000.sonic80ms.txt\n",
      "Download successful! data/wfip2.met.z28.b0/met.z28.b0.20160821.020000.sonic80ms.txt\n",
      "Download successful! data/wfip2.met.z28.b0/met.z28.b0.20160821.050000.sonic80ms.txt\n",
      "Download successful! data/wfip2.met.z28.b0/met.z28.b0.20160821.060000.sonic80ms.txt\n",
      "Download successful! data/wfip2.met.z28.b0/met.z28.b0.20160821.070000.sonic80ms.txt\n",
      "Download successful! data/wfip2.met.z28.b0/met.z28.b0.20160821.080000.sonic80ms.txt\n",
      "Download successful! data/wfip2.met.z28.b0/met.z28.b0.20160821.100000.sonic80ms.txt\n",
      "Download successful! data/wfip2.met.z28.b0/met.z28.b0.20160821.110000.sonic80ms.txt\n",
      "Download successful! data/wfip2.met.z28.b0/met.z28.b0.20160821.120000.sonic80ms.txt\n",
      "Download successful! data/wfip2.met.z28.b0/met.z28.b0.20160821.130000.sonic80ms.txt\n",
      "Download successful! data/wfip2.met.z28.b0/met.z28.b0.20160821.140000.sonic80ms.txt\n",
      "Download successful! data/wfip2.met.z28.b0/met.z28.b0.20160821.160000.sonic80ms.txt\n",
      "Download successful! data/wfip2.met.z28.b0/met.z28.b0.20160821.170000.sonic80ms.txt\n",
      "Download successful! data/wfip2.met.z28.b0/met.z28.b0.20160821.180000.sonic80ms.txt\n",
      "Download successful! data/wfip2.met.z28.b0/met.z28.b0.20160821.190000.sonic80ms.txt\n",
      "Download successful! data/wfip2.met.z28.b0/met.z28.b0.20160821.200000.sonic80ms.txt\n",
      "Download successful! data/wfip2.met.z28.b0/met.z28.b0.20160821.090000.sonic80ms.txt\n",
      "Download successful! data/wfip2.met.z28.b0/met.z28.b0.20160821.220000.sonic80ms.txt\n",
      "Download successful! data/wfip2.met.z28.b0/met.z28.b0.20160821.230000.sonic80ms.txt\n",
      "Download successful! data/wfip2.met.z28.b0/met.z28.b0.20160822.000000.sonic80ms.txt\n",
      "Download successful! data/wfip2.met.z28.b0/met.z28.b0.20160821.210000.sonic80ms.txt\n",
      "Download successful! data/wfip2.met.z28.b0/met.z28.b0.20160821.150000.sonic80ms.txt\n",
      "25 data files selected from wfip2/met.z29.b0\n",
      "Download successful! data/wfip2.met.z29.b0/met.z29.b0.20160821.000000.sonic80mw.txt\n",
      "Download successful! data/wfip2.met.z29.b0/met.z29.b0.20160821.030000.sonic80mw.txt\n",
      "Download successful! data/wfip2.met.z29.b0/met.z29.b0.20160821.020000.sonic80mw.txt\n",
      "Download successful! data/wfip2.met.z29.b0/met.z29.b0.20160821.010000.sonic80mw.txt\n",
      "Download successful! data/wfip2.met.z29.b0/met.z29.b0.20160821.040000.sonic80mw.txt\n",
      "Download successful! data/wfip2.met.z29.b0/met.z29.b0.20160821.050000.sonic80mw.txt\n",
      "Download successful! data/wfip2.met.z29.b0/met.z29.b0.20160821.060000.sonic80mw.txt\n",
      "Download successful! data/wfip2.met.z29.b0/met.z29.b0.20160821.070000.sonic80mw.txt\n",
      "Download successful! data/wfip2.met.z29.b0/met.z29.b0.20160821.080000.sonic80mw.txt\n",
      "Download successful! data/wfip2.met.z29.b0/met.z29.b0.20160821.090000.sonic80mw.txt\n",
      "Download successful! data/wfip2.met.z29.b0/met.z29.b0.20160821.100000.sonic80mw.txt\n",
      "Download successful! data/wfip2.met.z29.b0/met.z29.b0.20160821.150000.sonic80mw.txt\n",
      "Download successful! data/wfip2.met.z29.b0/met.z29.b0.20160821.160000.sonic80mw.txt\n",
      "Download successful! data/wfip2.met.z29.b0/met.z29.b0.20160821.170000.sonic80mw.txt\n",
      "Download successful! data/wfip2.met.z29.b0/met.z29.b0.20160821.110000.sonic80mw.txt\n",
      "Download successful! data/wfip2.met.z29.b0/met.z29.b0.20160821.190000.sonic80mw.txt\n",
      "Download successful! data/wfip2.met.z29.b0/met.z29.b0.20160821.200000.sonic80mw.txt\n",
      "Download successful! data/wfip2.met.z29.b0/met.z29.b0.20160821.210000.sonic80mw.txt\n",
      "Download successful! data/wfip2.met.z29.b0/met.z29.b0.20160821.120000.sonic80mw.txt\n",
      "Download successful! data/wfip2.met.z29.b0/met.z29.b0.20160821.130000.sonic80mw.txt\n",
      "Download successful! data/wfip2.met.z29.b0/met.z29.b0.20160821.140000.sonic80mw.txt\n",
      "Download successful! data/wfip2.met.z29.b0/met.z29.b0.20160821.230000.sonic80mw.txt\n",
      "Download successful! data/wfip2.met.z29.b0/met.z29.b0.20160821.220000.sonic80mw.txt\n",
      "Download successful! data/wfip2.met.z29.b0/met.z29.b0.20160821.180000.sonic80mw.txt\n",
      "Download successful! data/wfip2.met.z29.b0/met.z29.b0.20160822.000000.sonic80mw.txt\n",
      "25 data files selected from wfip2/met.z30.b0\n",
      "Download successful! data/wfip2.met.z30.b0/met.z30.b0.20160821.050000.sonic50ms.txt\n",
      "Download successful! data/wfip2.met.z30.b0/met.z30.b0.20160821.020000.sonic50ms.txt\n",
      "Download successful! data/wfip2.met.z30.b0/met.z30.b0.20160821.000000.sonic50ms.txt\n",
      "Download successful! data/wfip2.met.z30.b0/met.z30.b0.20160821.090000.sonic50ms.txt\n",
      "Download successful! data/wfip2.met.z30.b0/met.z30.b0.20160821.120000.sonic50ms.txt\n",
      "Download successful! data/wfip2.met.z30.b0/met.z30.b0.20160821.070000.sonic50ms.txt\n",
      "Download successful! data/wfip2.met.z30.b0/met.z30.b0.20160821.100000.sonic50ms.txt\n",
      "Download successful! data/wfip2.met.z30.b0/met.z30.b0.20160821.010000.sonic50ms.txt\n",
      "Download successful! data/wfip2.met.z30.b0/met.z30.b0.20160821.030000.sonic50ms.txt\n",
      "Download successful! data/wfip2.met.z30.b0/met.z30.b0.20160821.060000.sonic50ms.txt\n",
      "Download successful! data/wfip2.met.z30.b0/met.z30.b0.20160821.040000.sonic50ms.txt\n",
      "Download successful! data/wfip2.met.z30.b0/met.z30.b0.20160821.080000.sonic50ms.txt\n",
      "Download successful! data/wfip2.met.z30.b0/met.z30.b0.20160821.110000.sonic50ms.txt\n",
      "Download successful! data/wfip2.met.z30.b0/met.z30.b0.20160821.130000.sonic50ms.txt\n",
      "Download successful! data/wfip2.met.z30.b0/met.z30.b0.20160821.150000.sonic50ms.txt\n",
      "Download successful! data/wfip2.met.z30.b0/met.z30.b0.20160821.160000.sonic50ms.txt\n",
      "Download successful! data/wfip2.met.z30.b0/met.z30.b0.20160821.170000.sonic50ms.txt\n",
      "Download successful! data/wfip2.met.z30.b0/met.z30.b0.20160821.180000.sonic50ms.txt\n",
      "Download successful! data/wfip2.met.z30.b0/met.z30.b0.20160821.190000.sonic50ms.txt\n",
      "Download successful! data/wfip2.met.z30.b0/met.z30.b0.20160821.200000.sonic50ms.txt\n",
      "Download successful! data/wfip2.met.z30.b0/met.z30.b0.20160821.140000.sonic50ms.txt\n",
      "Download successful! data/wfip2.met.z30.b0/met.z30.b0.20160821.210000.sonic50ms.txt\n",
      "Download successful! data/wfip2.met.z30.b0/met.z30.b0.20160821.220000.sonic50ms.txt\n",
      "Download successful! data/wfip2.met.z30.b0/met.z30.b0.20160821.230000.sonic50ms.txt\n",
      "Download successful! data/wfip2.met.z30.b0/met.z30.b0.20160822.000000.sonic50ms.txt\n",
      "25 data files selected from wfip2/met.z31.b0\n",
      "Download successful! data/wfip2.met.z31.b0/met.z31.b0.20160821.010000.sonic50mw.txt\n",
      "Download successful! data/wfip2.met.z31.b0/met.z31.b0.20160821.020000.sonic50mw.txt\n",
      "Download successful! data/wfip2.met.z31.b0/met.z31.b0.20160821.000000.sonic50mw.txt\n",
      "Download successful! data/wfip2.met.z31.b0/met.z31.b0.20160821.030000.sonic50mw.txt\n",
      "Download successful! data/wfip2.met.z31.b0/met.z31.b0.20160821.040000.sonic50mw.txt\n",
      "Download successful! data/wfip2.met.z31.b0/met.z31.b0.20160821.050000.sonic50mw.txt\n",
      "Download successful! data/wfip2.met.z31.b0/met.z31.b0.20160821.070000.sonic50mw.txt\n",
      "Download successful! data/wfip2.met.z31.b0/met.z31.b0.20160821.080000.sonic50mw.txt\n",
      "Download successful! data/wfip2.met.z31.b0/met.z31.b0.20160821.090000.sonic50mw.txt\n",
      "Download successful! data/wfip2.met.z31.b0/met.z31.b0.20160821.100000.sonic50mw.txt\n",
      "Download successful! data/wfip2.met.z31.b0/met.z31.b0.20160821.110000.sonic50mw.txt\n",
      "Download successful! data/wfip2.met.z31.b0/met.z31.b0.20160821.130000.sonic50mw.txt\n",
      "Download successful! data/wfip2.met.z31.b0/met.z31.b0.20160821.140000.sonic50mw.txt\n",
      "Download successful! data/wfip2.met.z31.b0/met.z31.b0.20160821.150000.sonic50mw.txt\n",
      "Download successful! data/wfip2.met.z31.b0/met.z31.b0.20160821.160000.sonic50mw.txt\n",
      "Download successful! data/wfip2.met.z31.b0/met.z31.b0.20160821.170000.sonic50mw.txt\n",
      "Download successful! data/wfip2.met.z31.b0/met.z31.b0.20160821.190000.sonic50mw.txt\n",
      "Download successful! data/wfip2.met.z31.b0/met.z31.b0.20160821.200000.sonic50mw.txt\n",
      "Download successful! data/wfip2.met.z31.b0/met.z31.b0.20160821.210000.sonic50mw.txt\n",
      "Download successful! data/wfip2.met.z31.b0/met.z31.b0.20160821.220000.sonic50mw.txt\n",
      "Download successful! data/wfip2.met.z31.b0/met.z31.b0.20160821.230000.sonic50mw.txt\n"
     ]
    },
    {
     "name": "stdout",
     "output_type": "stream",
     "text": [
      "Download successful! data/wfip2.met.z31.b0/met.z31.b0.20160821.180000.sonic50mw.txt\n",
      "Download successful! data/wfip2.met.z31.b0/met.z31.b0.20160821.060000.sonic50mw.txt\n",
      "Download successful! data/wfip2.met.z31.b0/met.z31.b0.20160822.000000.sonic50mw.txt\n",
      "Download successful! data/wfip2.met.z31.b0/met.z31.b0.20160821.120000.sonic50mw.txt\n"
     ]
    }
   ],
   "source": [
    "filelist = {}\n",
    "for sonicid in sonics:\n",
    "    dataset = 'wfip2/'+dataset_series.format(sonicid)\n",
    "    filter_arg = {\n",
    "        'Dataset': dataset,\n",
    "        'date_time': {\n",
    "            'between': [startdate.strftime('%Y%m%d%H%M%S'), enddate.strftime('%Y%m%d%H%M%S')]\n",
    "        }\n",
    "    }\n",
    "    if dataext:\n",
    "        filter_arg['file_type'] = dataext\n",
    "    if dataext1:\n",
    "        filter_arg['ext1'] = dataext1\n",
    "    datafiles = a2e.search(filter_arg)\n",
    "    print(len(datafiles),'data files selected from',dataset)\n",
    "    filelist[sonicid] = a2e.download_files(datafiles, path=download_path, force=overwrite_files)"
   ]
  },
  {
   "cell_type": "markdown",
   "metadata": {},
   "source": [
    "## Process the downloaded files\n",
    "These files are a bit tricky because only time is contained in the data, and the date should be parsed from the filename. Resampling is also not straightforward because the number of rows (i.e., datapoints) varies for some reason. \n",
    "\n",
    "There are two approaches to reading the data and resampling to 1-Hz:\n",
    "- Quick and dirty: read every 20th row (for data at 20 Hz). \n",
    "- More reliable: a computationally slower (but more reliable) alternative is to reindex and take the first occurrence of each HH:MM:SS entry."
   ]
  },
  {
   "cell_type": "markdown",
   "metadata": {},
   "source": [
    "### approach 1: quick and dirty"
   ]
  },
  {
   "cell_type": "raw",
   "metadata": {},
   "source": [
    "%%time\n",
    "dflist = []\n",
    "for sonicid in sonics:\n",
    "    dapname = dataset_series.format(sonicid)\n",
    "    sonic_height = sonic_heights[sonicid]\n",
    "    sonic_dir = sonic_dirs[sonicid]\n",
    "    # sample filename: \"met.z28.b0.20160822.000000.sonic80ms.txt\"\n",
    "    fname_datetime_format = dapname + '.%Y%m%d.%H%M%S.sonic{:02d}m{:s}.txt'.format(int(sonic_height),sonic_dir)\n",
    "    df = read_files(filelist[sonicid],\n",
    "                    reader=mm.read_data, column_spec=mm.Metek_USA1,\n",
    "                    height=sonic_height,\n",
    "                    # for parsing datetime information from filename\n",
    "                    datetime_start=lambda fname: fname,\n",
    "                    datetime_start_format=fname_datetime_format,\n",
    "                    # sampling information\n",
    "                    data_freq='50ms', # offset string for data sampled at 20Hz\n",
    "                    max_data_rows=72000, # max rows to read, to deal with inconsistent output data length\n",
    "                    output_freq=20, # read every N rows (quick & dirty resampling)\n",
    "                    # additional arguments for pd.read_csv()\n",
    "                    delim_whitespace=True, # instead of comma-separated values\n",
    "                   )\n",
    "    df['sonicdir'] = sonic_dir\n",
    "    dflist.append(df)\n",
    "# CPU times: user 8.77 s, sys: 1.09 s, total: 9.86 s\n",
    "# Wall time: 9.71 s"
   ]
  },
  {
   "cell_type": "markdown",
   "metadata": {},
   "source": [
    "### approach 2: more reliable"
   ]
  },
  {
   "cell_type": "code",
   "execution_count": 12,
   "metadata": {},
   "outputs": [
    {
     "name": "stdout",
     "output_type": "stream",
     "text": [
      "met.z28.b0  height: 80.0  boom dir: s\n"
     ]
    },
    {
     "name": "stderr",
     "output_type": "stream",
     "text": [
      "/Users/equon/a2e-mmc/mmctools/measurements/metmast.py:188: FutureWarning: Creating a DatetimeIndex by passing range endpoints is deprecated.  Use `pandas.date_range` instead.\n",
      "  periods=len(df), freq=data_freq)\n"
     ]
    },
    {
     "name": "stdout",
     "output_type": "stream",
     "text": [
      "met.z29.b0  height: 80.0  boom dir: w\n",
      "met.z30.b0  height: 50.0  boom dir: s\n",
      "met.z31.b0  height: 50.0  boom dir: w\n",
      "CPU times: user 1min 1s, sys: 5.01 s, total: 1min 6s\n",
      "Wall time: 1min 11s\n"
     ]
    }
   ],
   "source": [
    "%%time\n",
    "dflist = []\n",
    "for sonicid in sonics:\n",
    "    dapname = dataset_series.format(sonicid)\n",
    "    sonic_height = sonic_heights[sonicid]\n",
    "    sonic_dir = sonic_dirs[sonicid]\n",
    "    print(dapname,' height:',sonic_height,' boom dir:',sonic_dir)\n",
    "    # sample filename: \"met.z28.b0.20160822.000000.sonic80ms.txt\"\n",
    "    fname_datetime_format = dapname + '.%Y%m%d.%H%M%S.sonic{:02d}m{:s}.txt'.format(int(sonic_height),sonic_dir)\n",
    "    df = read_files(filelist[sonicid],\n",
    "                    reader=mm.read_data, column_spec=mm.Metek_USA1,\n",
    "                    height=sonic_height,\n",
    "                    # for parsing datetime information from filename\n",
    "                    datetime_start=lambda fname: fname,\n",
    "                    datetime_start_format=fname_datetime_format,\n",
    "                    # sampling information\n",
    "                    data_freq='50ms', # offset string for data sampled at 20Hz\n",
    "                    # additional arguments for pd.read_csv()\n",
    "                    delim_whitespace=True, # instead of comma-separated values\n",
    "                   )\n",
    "    df = df.reset_index(1) # revert from multi-index back to datetime index\n",
    "    df = df.resample('1s').first() # resample at 1Hz\n",
    "    df = df.set_index('height',append=True) # add second index level\n",
    "    df['sonicdir'] = sonic_dir\n",
    "    dflist.append(df)\n",
    "# CPU times: user 1min 1s, sys: 4.46 s, total: 1min 6s\n",
    "# Wall time: 1min 5s"
   ]
  },
  {
   "cell_type": "markdown",
   "metadata": {},
   "source": [
    "### combine all the data"
   ]
  },
  {
   "cell_type": "code",
   "execution_count": 13,
   "metadata": {},
   "outputs": [],
   "source": [
    "df = pd.concat(dflist)"
   ]
  },
  {
   "cell_type": "code",
   "execution_count": 14,
   "metadata": {},
   "outputs": [],
   "source": [
    "# specifying `datetime_start` created a new 'datetime' column, so drop the old 'time' column \n",
    "df = df.drop(columns='time')"
   ]
  },
  {
   "cell_type": "code",
   "execution_count": 15,
   "metadata": {},
   "outputs": [
    {
     "data": {
      "text/html": [
       "<div>\n",
       "<style scoped>\n",
       "    .dataframe tbody tr th:only-of-type {\n",
       "        vertical-align: middle;\n",
       "    }\n",
       "\n",
       "    .dataframe tbody tr th {\n",
       "        vertical-align: top;\n",
       "    }\n",
       "\n",
       "    .dataframe thead th {\n",
       "        text-align: right;\n",
       "    }\n",
       "</style>\n",
       "<table border=\"1\" class=\"dataframe\">\n",
       "  <thead>\n",
       "    <tr style=\"text-align: right;\">\n",
       "      <th></th>\n",
       "      <th></th>\n",
       "      <th>w</th>\n",
       "      <th>Ts</th>\n",
       "      <th>wspd</th>\n",
       "      <th>wdir</th>\n",
       "      <th>sonicdir</th>\n",
       "    </tr>\n",
       "    <tr>\n",
       "      <th>datetime</th>\n",
       "      <th>height</th>\n",
       "      <th></th>\n",
       "      <th></th>\n",
       "      <th></th>\n",
       "      <th></th>\n",
       "      <th></th>\n",
       "    </tr>\n",
       "  </thead>\n",
       "  <tbody>\n",
       "    <tr>\n",
       "      <th>2016-08-21 00:00:00</th>\n",
       "      <th>80.0</th>\n",
       "      <td>0.18</td>\n",
       "      <td>303.82</td>\n",
       "      <td>3.352149</td>\n",
       "      <td>87.948491</td>\n",
       "      <td>s</td>\n",
       "    </tr>\n",
       "    <tr>\n",
       "      <th>2016-08-21 00:00:01</th>\n",
       "      <th>80.0</th>\n",
       "      <td>0.04</td>\n",
       "      <td>303.88</td>\n",
       "      <td>3.228157</td>\n",
       "      <td>100.892231</td>\n",
       "      <td>s</td>\n",
       "    </tr>\n",
       "    <tr>\n",
       "      <th>2016-08-21 00:00:02</th>\n",
       "      <th>80.0</th>\n",
       "      <td>0.17</td>\n",
       "      <td>303.86</td>\n",
       "      <td>3.485742</td>\n",
       "      <td>93.289243</td>\n",
       "      <td>s</td>\n",
       "    </tr>\n",
       "    <tr>\n",
       "      <th>2016-08-21 00:00:03</th>\n",
       "      <th>80.0</th>\n",
       "      <td>0.08</td>\n",
       "      <td>303.79</td>\n",
       "      <td>3.012125</td>\n",
       "      <td>84.857235</td>\n",
       "      <td>s</td>\n",
       "    </tr>\n",
       "    <tr>\n",
       "      <th>2016-08-21 00:00:04</th>\n",
       "      <th>80.0</th>\n",
       "      <td>-0.17</td>\n",
       "      <td>303.79</td>\n",
       "      <td>3.504882</td>\n",
       "      <td>75.289720</td>\n",
       "      <td>s</td>\n",
       "    </tr>\n",
       "  </tbody>\n",
       "</table>\n",
       "</div>"
      ],
      "text/plain": [
       "                               w      Ts      wspd        wdir sonicdir\n",
       "datetime            height                                             \n",
       "2016-08-21 00:00:00 80.0    0.18  303.82  3.352149   87.948491        s\n",
       "2016-08-21 00:00:01 80.0    0.04  303.88  3.228157  100.892231        s\n",
       "2016-08-21 00:00:02 80.0    0.17  303.86  3.485742   93.289243        s\n",
       "2016-08-21 00:00:03 80.0    0.08  303.79  3.012125   84.857235        s\n",
       "2016-08-21 00:00:04 80.0   -0.17  303.79  3.504882   75.289720        s"
      ]
     },
     "execution_count": 15,
     "metadata": {},
     "output_type": "execute_result"
    }
   ],
   "source": [
    "df.head()"
   ]
  },
  {
   "cell_type": "code",
   "execution_count": 16,
   "metadata": {},
   "outputs": [
    {
     "data": {
      "text/plain": [
       "DatetimeIndex(['2016-08-21 00:00:00', '2016-08-21 00:00:01',\n",
       "               '2016-08-21 00:00:02', '2016-08-21 00:00:03',\n",
       "               '2016-08-21 00:00:04', '2016-08-21 00:00:05',\n",
       "               '2016-08-21 00:00:06', '2016-08-21 00:00:07',\n",
       "               '2016-08-21 00:00:08', '2016-08-21 00:00:09',\n",
       "               ...\n",
       "               '2016-08-22 00:59:51', '2016-08-22 00:59:52',\n",
       "               '2016-08-22 00:59:53', '2016-08-22 00:59:54',\n",
       "               '2016-08-22 00:59:55', '2016-08-22 00:59:56',\n",
       "               '2016-08-22 00:59:57', '2016-08-22 00:59:58',\n",
       "               '2016-08-22 00:59:59', '2016-08-22 01:00:00'],\n",
       "              dtype='datetime64[ns]', name='datetime', length=90001, freq=None)"
      ]
     },
     "execution_count": 16,
     "metadata": {},
     "output_type": "execute_result"
    }
   ],
   "source": [
    "times = df.index.levels[0]\n",
    "times"
   ]
  },
  {
   "cell_type": "code",
   "execution_count": 17,
   "metadata": {},
   "outputs": [
    {
     "data": {
      "text/plain": [
       "Float64Index([50.0, 80.0], dtype='float64', name='height')"
      ]
     },
     "execution_count": 17,
     "metadata": {},
     "output_type": "execute_result"
    }
   ],
   "source": [
    "heights = df.index.levels[1]\n",
    "heights"
   ]
  },
  {
   "cell_type": "markdown",
   "metadata": {},
   "source": [
    "## Analysis\n",
    "analyst's choices basically start here..."
   ]
  },
  {
   "cell_type": "code",
   "execution_count": 18,
   "metadata": {},
   "outputs": [],
   "source": [
    "df_s = df.loc[df['sonicdir']=='s'].drop(columns='sonicdir')\n",
    "df_w = df.loc[df['sonicdir']=='w'].drop(columns='sonicdir')"
   ]
  },
  {
   "cell_type": "code",
   "execution_count": 19,
   "metadata": {},
   "outputs": [
    {
     "data": {
      "text/html": [
       "<div>\n",
       "<style scoped>\n",
       "    .dataframe tbody tr th:only-of-type {\n",
       "        vertical-align: middle;\n",
       "    }\n",
       "\n",
       "    .dataframe tbody tr th {\n",
       "        vertical-align: top;\n",
       "    }\n",
       "\n",
       "    .dataframe thead th {\n",
       "        text-align: right;\n",
       "    }\n",
       "</style>\n",
       "<table border=\"1\" class=\"dataframe\">\n",
       "  <thead>\n",
       "    <tr style=\"text-align: right;\">\n",
       "      <th></th>\n",
       "      <th></th>\n",
       "      <th>w</th>\n",
       "      <th>Ts</th>\n",
       "      <th>wspd</th>\n",
       "      <th>wdir</th>\n",
       "    </tr>\n",
       "    <tr>\n",
       "      <th>datetime</th>\n",
       "      <th>height</th>\n",
       "      <th></th>\n",
       "      <th></th>\n",
       "      <th></th>\n",
       "      <th></th>\n",
       "    </tr>\n",
       "  </thead>\n",
       "  <tbody>\n",
       "    <tr>\n",
       "      <th rowspan=\"2\" valign=\"top\">2016-08-21 00:00:00</th>\n",
       "      <th>50.0</th>\n",
       "      <td>-0.400</td>\n",
       "      <td>303.455</td>\n",
       "      <td>3.008679</td>\n",
       "      <td>78.191149</td>\n",
       "    </tr>\n",
       "    <tr>\n",
       "      <th>80.0</th>\n",
       "      <td>0.155</td>\n",
       "      <td>302.695</td>\n",
       "      <td>2.886333</td>\n",
       "      <td>82.042239</td>\n",
       "    </tr>\n",
       "    <tr>\n",
       "      <th rowspan=\"2\" valign=\"top\">2016-08-21 00:00:01</th>\n",
       "      <th>50.0</th>\n",
       "      <td>-0.170</td>\n",
       "      <td>303.530</td>\n",
       "      <td>2.868072</td>\n",
       "      <td>77.110720</td>\n",
       "    </tr>\n",
       "    <tr>\n",
       "      <th>80.0</th>\n",
       "      <td>0.000</td>\n",
       "      <td>302.695</td>\n",
       "      <td>2.912847</td>\n",
       "      <td>90.569903</td>\n",
       "    </tr>\n",
       "    <tr>\n",
       "      <th>2016-08-21 00:00:02</th>\n",
       "      <th>50.0</th>\n",
       "      <td>0.125</td>\n",
       "      <td>303.400</td>\n",
       "      <td>2.962650</td>\n",
       "      <td>67.184495</td>\n",
       "    </tr>\n",
       "  </tbody>\n",
       "</table>\n",
       "</div>"
      ],
      "text/plain": [
       "                                w       Ts      wspd       wdir\n",
       "datetime            height                                     \n",
       "2016-08-21 00:00:00 50.0   -0.400  303.455  3.008679  78.191149\n",
       "                    80.0    0.155  302.695  2.886333  82.042239\n",
       "2016-08-21 00:00:01 50.0   -0.170  303.530  2.868072  77.110720\n",
       "                    80.0    0.000  302.695  2.912847  90.569903\n",
       "2016-08-21 00:00:02 50.0    0.125  303.400  2.962650  67.184495"
      ]
     },
     "execution_count": 19,
     "metadata": {},
     "output_type": "execute_result"
    }
   ],
   "source": [
    "# consider the sonic measurement at each height as the average measurement from each boom\n",
    "df_zavg = (df_s + df_w) / 2\n",
    "df_zavg.head()"
   ]
  },
  {
   "cell_type": "code",
   "execution_count": 20,
   "metadata": {},
   "outputs": [],
   "source": [
    "# statistics calculations\n",
    "def calc_stats(df):\n",
    "    # calculate components\n",
    "    windangle = np.radians(270. - df['wdir'])\n",
    "    df['u'] = df['wspd'] * np.cos(windangle)\n",
    "    df['v'] = df['wspd'] * np.sin(windangle)\n",
    "    # calculate stats on pivoted (unstacked or \"wide\") dataframe\n",
    "    # - unstack() takes the height column and creates a new field column for each height\n",
    "    # - replace `resample` with `rolling` to get sliding statistics\n",
    "    resampled = df.unstack().resample('10min')\n",
    "    stats = resampled.mean() # now the datetime index is at 10-min intervals\n",
    "    stats = stats.stack() # return to stacked/\"long\" dataframe format\n",
    "    # - recalculate wspd/wdir from 10-min averages\n",
    "    stats['wspd'] = np.sqrt(stats['u']**2 + stats['v']**2)\n",
    "    stats['wdir'] = np.degrees(np.arctan2(-stats['u'], -stats['v']))\n",
    "    stats.loc[stats['wdir']<0, 'wdir'] += 360.\n",
    "    # - turbulence statistics\n",
    "    variances = resampled.var().stack()\n",
    "    stats['uu'] = variances['u']\n",
    "    stats['vv'] = variances['v']\n",
    "    stats['ww'] = variances['w']\n",
    "    stats['uw'] = covariance(df['u'], df['w'], '10min', resample=True)\n",
    "    stats['Tsw'] = covariance(df['Ts'], df['w'], '10min', resample=True)\n",
    "    stats['TI'] = np.sqrt(variances['wspd']) / stats['wspd']\n",
    "    stats['k'] = 0.5*(stats['uu'] + stats['vv'] + stats['ww'])\n",
    "    # ...\n",
    "    return stats"
   ]
  },
  {
   "cell_type": "code",
   "execution_count": 21,
   "metadata": {},
   "outputs": [],
   "source": [
    "# calculate statistics on the south/west booms separately...\n",
    "df_s_10min = calc_stats(df_s)\n",
    "df_w_10min = calc_stats(df_w)"
   ]
  },
  {
   "cell_type": "code",
   "execution_count": 22,
   "metadata": {},
   "outputs": [
    {
     "data": {
      "text/html": [
       "<div>\n",
       "<style scoped>\n",
       "    .dataframe tbody tr th:only-of-type {\n",
       "        vertical-align: middle;\n",
       "    }\n",
       "\n",
       "    .dataframe tbody tr th {\n",
       "        vertical-align: top;\n",
       "    }\n",
       "\n",
       "    .dataframe thead th {\n",
       "        text-align: right;\n",
       "    }\n",
       "</style>\n",
       "<table border=\"1\" class=\"dataframe\">\n",
       "  <thead>\n",
       "    <tr style=\"text-align: right;\">\n",
       "      <th></th>\n",
       "      <th></th>\n",
       "      <th>w</th>\n",
       "      <th>Ts</th>\n",
       "      <th>wspd</th>\n",
       "      <th>wdir</th>\n",
       "      <th>u</th>\n",
       "      <th>v</th>\n",
       "      <th>uu</th>\n",
       "      <th>vv</th>\n",
       "      <th>ww</th>\n",
       "      <th>uw</th>\n",
       "      <th>Tsw</th>\n",
       "      <th>TI</th>\n",
       "      <th>k</th>\n",
       "    </tr>\n",
       "    <tr>\n",
       "      <th>datetime</th>\n",
       "      <th>height</th>\n",
       "      <th></th>\n",
       "      <th></th>\n",
       "      <th></th>\n",
       "      <th></th>\n",
       "      <th></th>\n",
       "      <th></th>\n",
       "      <th></th>\n",
       "      <th></th>\n",
       "      <th></th>\n",
       "      <th></th>\n",
       "      <th></th>\n",
       "      <th></th>\n",
       "      <th></th>\n",
       "    </tr>\n",
       "  </thead>\n",
       "  <tbody>\n",
       "    <tr>\n",
       "      <th rowspan=\"2\" valign=\"top\">2016-08-21 00:00:00</th>\n",
       "      <th>50.0</th>\n",
       "      <td>-0.054783</td>\n",
       "      <td>303.381433</td>\n",
       "      <td>2.316448</td>\n",
       "      <td>62.040321</td>\n",
       "      <td>-2.046067</td>\n",
       "      <td>-1.086067</td>\n",
       "      <td>0.925561</td>\n",
       "      <td>0.676527</td>\n",
       "      <td>0.391150</td>\n",
       "      <td>-0.081788</td>\n",
       "      <td>0.089993</td>\n",
       "      <td>0.343723</td>\n",
       "      <td>0.996619</td>\n",
       "    </tr>\n",
       "    <tr>\n",
       "      <th>80.0</th>\n",
       "      <td>-0.196717</td>\n",
       "      <td>303.774167</td>\n",
       "      <td>2.432531</td>\n",
       "      <td>59.959168</td>\n",
       "      <td>-2.105767</td>\n",
       "      <td>-1.217767</td>\n",
       "      <td>0.790442</td>\n",
       "      <td>0.535609</td>\n",
       "      <td>0.435118</td>\n",
       "      <td>-0.250365</td>\n",
       "      <td>0.070911</td>\n",
       "      <td>0.281215</td>\n",
       "      <td>0.880585</td>\n",
       "    </tr>\n",
       "    <tr>\n",
       "      <th rowspan=\"2\" valign=\"top\">2016-08-21 00:10:00</th>\n",
       "      <th>50.0</th>\n",
       "      <td>-0.194367</td>\n",
       "      <td>303.310717</td>\n",
       "      <td>1.384777</td>\n",
       "      <td>44.019359</td>\n",
       "      <td>-0.962283</td>\n",
       "      <td>-0.995800</td>\n",
       "      <td>0.309422</td>\n",
       "      <td>0.570989</td>\n",
       "      <td>0.500990</td>\n",
       "      <td>-0.010256</td>\n",
       "      <td>0.039107</td>\n",
       "      <td>0.364544</td>\n",
       "      <td>0.690701</td>\n",
       "    </tr>\n",
       "    <tr>\n",
       "      <th>80.0</th>\n",
       "      <td>-0.457367</td>\n",
       "      <td>303.759200</td>\n",
       "      <td>1.344666</td>\n",
       "      <td>57.491008</td>\n",
       "      <td>-1.133967</td>\n",
       "      <td>-0.722667</td>\n",
       "      <td>0.387042</td>\n",
       "      <td>0.517000</td>\n",
       "      <td>0.590787</td>\n",
       "      <td>-0.071583</td>\n",
       "      <td>0.034638</td>\n",
       "      <td>0.372688</td>\n",
       "      <td>0.747415</td>\n",
       "    </tr>\n",
       "    <tr>\n",
       "      <th>2016-08-21 00:20:00</th>\n",
       "      <th>50.0</th>\n",
       "      <td>-0.323300</td>\n",
       "      <td>303.393083</td>\n",
       "      <td>1.261292</td>\n",
       "      <td>85.309041</td>\n",
       "      <td>-1.257067</td>\n",
       "      <td>-0.103150</td>\n",
       "      <td>0.504780</td>\n",
       "      <td>0.888122</td>\n",
       "      <td>0.537136</td>\n",
       "      <td>-0.115382</td>\n",
       "      <td>0.048500</td>\n",
       "      <td>0.631502</td>\n",
       "      <td>0.965019</td>\n",
       "    </tr>\n",
       "  </tbody>\n",
       "</table>\n",
       "</div>"
      ],
      "text/plain": [
       "                                   w          Ts      wspd       wdir  \\\n",
       "datetime            height                                              \n",
       "2016-08-21 00:00:00 50.0   -0.054783  303.381433  2.316448  62.040321   \n",
       "                    80.0   -0.196717  303.774167  2.432531  59.959168   \n",
       "2016-08-21 00:10:00 50.0   -0.194367  303.310717  1.384777  44.019359   \n",
       "                    80.0   -0.457367  303.759200  1.344666  57.491008   \n",
       "2016-08-21 00:20:00 50.0   -0.323300  303.393083  1.261292  85.309041   \n",
       "\n",
       "                                   u         v        uu        vv        ww  \\\n",
       "datetime            height                                                     \n",
       "2016-08-21 00:00:00 50.0   -2.046067 -1.086067  0.925561  0.676527  0.391150   \n",
       "                    80.0   -2.105767 -1.217767  0.790442  0.535609  0.435118   \n",
       "2016-08-21 00:10:00 50.0   -0.962283 -0.995800  0.309422  0.570989  0.500990   \n",
       "                    80.0   -1.133967 -0.722667  0.387042  0.517000  0.590787   \n",
       "2016-08-21 00:20:00 50.0   -1.257067 -0.103150  0.504780  0.888122  0.537136   \n",
       "\n",
       "                                  uw       Tsw        TI         k  \n",
       "datetime            height                                          \n",
       "2016-08-21 00:00:00 50.0   -0.081788  0.089993  0.343723  0.996619  \n",
       "                    80.0   -0.250365  0.070911  0.281215  0.880585  \n",
       "2016-08-21 00:10:00 50.0   -0.010256  0.039107  0.364544  0.690701  \n",
       "                    80.0   -0.071583  0.034638  0.372688  0.747415  \n",
       "2016-08-21 00:20:00 50.0   -0.115382  0.048500  0.631502  0.965019  "
      ]
     },
     "execution_count": 22,
     "metadata": {},
     "output_type": "execute_result"
    }
   ],
   "source": [
    "df_s_10min.head()"
   ]
  },
  {
   "cell_type": "markdown",
   "metadata": {},
   "source": [
    "## Plots"
   ]
  },
  {
   "cell_type": "code",
   "execution_count": 23,
   "metadata": {},
   "outputs": [
    {
     "name": "stdout",
     "output_type": "stream",
     "text": [
      "Warning: field \"TI\" not available in dataset instantaneous\n"
     ]
    },
    {
     "data": {
      "text/plain": [
       "(<Figure size 864x648 with 3 Axes>,\n",
       " array([<matplotlib.axes._subplots.AxesSubplot object at 0x1c3b8d0630>,\n",
       "        <matplotlib.axes._subplots.AxesSubplot object at 0x1c35339a90>,\n",
       "        <matplotlib.axes._subplots.AxesSubplot object at 0x1c304aad68>],\n",
       "       dtype=object))"
      ]
     },
     "execution_count": 23,
     "metadata": {},
     "output_type": "execute_result"
    },
    {
     "data": {
      "image/png": "[encoded data removed]",
      "text/plain": [
       "<Figure size 864x648 with 3 Axes>"
      ]
     },
     "metadata": {
      "needs_background": "light"
     },
     "output_type": "display_data"
    }
   ],
   "source": [
    "plot_timehistory_at_height({'instantaneous':df_s, '10-min':df_s_10min},\n",
    "                           fields=['wspd','wdir','TI'],\n",
    "                           heights=80)"
   ]
  },
  {
   "cell_type": "code",
   "execution_count": null,
   "metadata": {},
   "outputs": [],
   "source": []
  }
 ],
 "metadata": {
  "kernelspec": {
   "display_name": "Python 3",
   "language": "python",
   "name": "python3"
  },
  "language_info": {
   "codemirror_mode": {
    "name": "ipython",
    "version": 3
   },
   "file_extension": ".py",
   "mimetype": "text/x-python",
   "name": "python",
   "nbconvert_exporter": "python",
   "pygments_lexer": "ipython3",
   "version": "3.7.1"
  }
 },
 "nbformat": 4,
 "nbformat_minor": 2
}
