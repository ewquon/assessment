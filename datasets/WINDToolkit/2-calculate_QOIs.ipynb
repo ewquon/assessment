{
 "cells": [
  {
   "cell_type": "code",
   "execution_count": 1,
   "metadata": {},
   "outputs": [],
   "source": [
    "%load_ext autoreload\n",
    "%autoreload 2"
   ]
  },
  {
   "cell_type": "code",
   "execution_count": 2,
   "metadata": {},
   "outputs": [],
   "source": [
    "%matplotlib inline\n",
    "import os\n",
    "import numpy as np\n",
    "import matplotlib.pyplot as plt\n",
    "import pandas as pd"
   ]
  },
  {
   "cell_type": "code",
   "execution_count": 3,
   "metadata": {},
   "outputs": [],
   "source": [
    "from mmctools.helper_functions import T_to_Tv\n",
    "from mmctools.similarity import Jimenez_m, Jimenez_h\n",
    "from mmctools.wrf.landuse import LandUseTable"
   ]
  },
  {
   "cell_type": "markdown",
   "metadata": {},
   "source": [
    "# WIND Toolkit analysis: quantities of interest\n",
    "written by Eliot Quon (eliot.quon@nrel.gov)\n",
    "\n",
    "This notebook uses processed data from `1-process_raw_data.ipynb`."
   ]
  },
  {
   "cell_type": "code",
   "execution_count": 4,
   "metadata": {},
   "outputs": [],
   "source": [
    "t0 = pd.to_datetime('2007-01-01')\n",
    "startanalysis = pd.to_datetime('2011-01-01')  # operation began in Oct 2010, start on a full year"
   ]
  },
  {
   "cell_type": "code",
   "execution_count": 5,
   "metadata": {},
   "outputs": [],
   "source": [
    "compressed_output = 'data'  # path to data output from initial processing notebook\n",
    "tsdata = 'WTK_ts.raw.csv.gz'  # time-series data\n",
    "columndata = 'WTK.interp.csv.gz'  # time-height data"
   ]
  },
  {
   "cell_type": "code",
   "execution_count": 6,
   "metadata": {},
   "outputs": [],
   "source": [
    "# lat/lon from Google maps\n",
    "ref_coords = (42.921494, -105.785106)"
   ]
  },
  {
   "cell_type": "code",
   "execution_count": 7,
   "metadata": {},
   "outputs": [],
   "source": [
    "figdir = 'figures'\n",
    "\n",
    "if not os.path.isdir(figdir):\n",
    "    os.makedirs(figdir)"
   ]
  },
  {
   "cell_type": "code",
   "execution_count": 8,
   "metadata": {},
   "outputs": [],
   "source": [
    "# constants\n",
    "k = 0.4  # von Karman constant\n",
    "g = 9.81\n",
    "Rd = 287 # gas constant for dry air [J kg^-1 K-1]\n",
    "Cp = 1004. # specific heat at constant pressure for dry air [J kg^-1 K-1]"
   ]
  },
  {
   "cell_type": "code",
   "execution_count": 9,
   "metadata": {},
   "outputs": [],
   "source": [
    "# landuse information\n",
    "landuse_idx = 9  # from WRF \"clipped_template.nc\"\n",
    "MMINLU = 'USGS'  # from WRF \"clipped_template.nc\"\n",
    "landuse_path = '/Users/equon/Downloads/WRF-release_v3-4-1/run/LANDUSE.TBL'"
   ]
  },
  {
   "cell_type": "markdown",
   "metadata": {},
   "source": [
    "## 1. Load data"
   ]
  },
  {
   "cell_type": "code",
   "execution_count": 10,
   "metadata": {},
   "outputs": [
    {
     "name": "stdout",
     "output_type": "stream",
     "text": [
      "CPU times: user 1.46 s, sys: 129 ms, total: 1.59 s\n",
      "Wall time: 1.63 s\n"
     ]
    }
   ],
   "source": [
    "%%time\n",
    "df = pd.read_csv(os.path.join(compressed_output, columndata),\n",
    "                 parse_dates=['datetime']).set_index(['datetime','height'])\n",
    "alldatetimes = df.index.get_level_values('datetime')\n",
    "df = df.loc[(alldatetimes >= startanalysis), :]\n",
    "times = df.index.get_level_values('datetime').unique()\n",
    "heights = df.index.get_level_values('height').unique()\n",
    "\n",
    "# CPU times: user 1.41 s, sys: 136 ms, total: 1.55 s\n",
    "# Wall time: 1.61 s"
   ]
  },
  {
   "cell_type": "code",
   "execution_count": 11,
   "metadata": {},
   "outputs": [
    {
     "data": {
      "text/html": [
       "<div>\n",
       "<style scoped>\n",
       "    .dataframe tbody tr th:only-of-type {\n",
       "        vertical-align: middle;\n",
       "    }\n",
       "\n",
       "    .dataframe tbody tr th {\n",
       "        vertical-align: top;\n",
       "    }\n",
       "\n",
       "    .dataframe thead th {\n",
       "        text-align: right;\n",
       "    }\n",
       "</style>\n",
       "<table border=\"1\" class=\"dataframe\">\n",
       "  <thead>\n",
       "    <tr style=\"text-align: right;\">\n",
       "      <th></th>\n",
       "      <th></th>\n",
       "      <th>pressure</th>\n",
       "      <th>temperature</th>\n",
       "      <th>winddirection</th>\n",
       "      <th>windspeed</th>\n",
       "      <th>theta</th>\n",
       "    </tr>\n",
       "    <tr>\n",
       "      <th>datetime</th>\n",
       "      <th>height</th>\n",
       "      <th></th>\n",
       "      <th></th>\n",
       "      <th></th>\n",
       "      <th></th>\n",
       "      <th></th>\n",
       "    </tr>\n",
       "  </thead>\n",
       "  <tbody>\n",
       "    <tr>\n",
       "      <th rowspan=\"5\" valign=\"top\">2011-01-01</th>\n",
       "      <th>2.0</th>\n",
       "      <td>82498.458594</td>\n",
       "      <td>255.697800</td>\n",
       "      <td>NaN</td>\n",
       "      <td>NaN</td>\n",
       "      <td>255.717357</td>\n",
       "    </tr>\n",
       "    <tr>\n",
       "      <th>10.0</th>\n",
       "      <td>82410.199219</td>\n",
       "      <td>255.481125</td>\n",
       "      <td>299.963379</td>\n",
       "      <td>8.313240</td>\n",
       "      <td>255.578895</td>\n",
       "    </tr>\n",
       "    <tr>\n",
       "      <th>40.0</th>\n",
       "      <td>82079.226562</td>\n",
       "      <td>255.139313</td>\n",
       "      <td>300.045776</td>\n",
       "      <td>9.454636</td>\n",
       "      <td>255.530883</td>\n",
       "    </tr>\n",
       "    <tr>\n",
       "      <th>60.0</th>\n",
       "      <td>81858.578125</td>\n",
       "      <td>254.940948</td>\n",
       "      <td>299.974365</td>\n",
       "      <td>9.753716</td>\n",
       "      <td>255.528862</td>\n",
       "    </tr>\n",
       "    <tr>\n",
       "      <th>80.0</th>\n",
       "      <td>81637.929688</td>\n",
       "      <td>254.760895</td>\n",
       "      <td>299.842529</td>\n",
       "      <td>9.961243</td>\n",
       "      <td>255.545586</td>\n",
       "    </tr>\n",
       "  </tbody>\n",
       "</table>\n",
       "</div>"
      ],
      "text/plain": [
       "                       pressure  temperature  winddirection  windspeed  \\\n",
       "datetime   height                                                        \n",
       "2011-01-01 2.0     82498.458594   255.697800            NaN        NaN   \n",
       "           10.0    82410.199219   255.481125     299.963379   8.313240   \n",
       "           40.0    82079.226562   255.139313     300.045776   9.454636   \n",
       "           60.0    81858.578125   254.940948     299.974365   9.753716   \n",
       "           80.0    81637.929688   254.760895     299.842529   9.961243   \n",
       "\n",
       "                        theta  \n",
       "datetime   height              \n",
       "2011-01-01 2.0     255.717357  \n",
       "           10.0    255.578895  \n",
       "           40.0    255.530883  \n",
       "           60.0    255.528862  \n",
       "           80.0    255.545586  "
      ]
     },
     "execution_count": 11,
     "metadata": {},
     "output_type": "execute_result"
    }
   ],
   "source": [
    "df.head()"
   ]
  },
  {
   "cell_type": "code",
   "execution_count": 12,
   "metadata": {},
   "outputs": [],
   "source": [
    "ts = pd.read_csv(os.path.join(compressed_output, tsdata),\n",
    "                 parse_dates=['datetime'], index_col=0)\n",
    "ts = ts.loc[(ts.index >= startanalysis), :]"
   ]
  },
  {
   "cell_type": "code",
   "execution_count": 13,
   "metadata": {},
   "outputs": [
    {
     "data": {
      "text/html": [
       "<div>\n",
       "<style scoped>\n",
       "    .dataframe tbody tr th:only-of-type {\n",
       "        vertical-align: middle;\n",
       "    }\n",
       "\n",
       "    .dataframe tbody tr th {\n",
       "        vertical-align: top;\n",
       "    }\n",
       "\n",
       "    .dataframe thead th {\n",
       "        text-align: right;\n",
       "    }\n",
       "</style>\n",
       "<table border=\"1\" class=\"dataframe\">\n",
       "  <thead>\n",
       "    <tr style=\"text-align: right;\">\n",
       "      <th></th>\n",
       "      <th>z/L</th>\n",
       "      <th>RH</th>\n",
       "      <th>precipitationrate</th>\n",
       "      <th>GHI</th>\n",
       "      <th>pressure</th>\n",
       "    </tr>\n",
       "    <tr>\n",
       "      <th>datetime</th>\n",
       "      <th></th>\n",
       "      <th></th>\n",
       "      <th></th>\n",
       "      <th></th>\n",
       "      <th></th>\n",
       "    </tr>\n",
       "  </thead>\n",
       "  <tbody>\n",
       "    <tr>\n",
       "      <th>2013-12-31 19:00:00</th>\n",
       "      <td>0.000000</td>\n",
       "      <td>62.54158</td>\n",
       "      <td>0.0</td>\n",
       "      <td>416.234300</td>\n",
       "      <td>83182.468750</td>\n",
       "    </tr>\n",
       "    <tr>\n",
       "      <th>2013-12-31 20:00:00</th>\n",
       "      <td>0.000610</td>\n",
       "      <td>62.24784</td>\n",
       "      <td>0.0</td>\n",
       "      <td>397.488300</td>\n",
       "      <td>83128.453125</td>\n",
       "    </tr>\n",
       "    <tr>\n",
       "      <th>2013-12-31 21:00:00</th>\n",
       "      <td>0.001831</td>\n",
       "      <td>65.35982</td>\n",
       "      <td>0.0</td>\n",
       "      <td>306.459230</td>\n",
       "      <td>83132.117188</td>\n",
       "    </tr>\n",
       "    <tr>\n",
       "      <th>2013-12-31 22:00:00</th>\n",
       "      <td>0.006714</td>\n",
       "      <td>66.29475</td>\n",
       "      <td>0.0</td>\n",
       "      <td>136.051510</td>\n",
       "      <td>83117.468750</td>\n",
       "    </tr>\n",
       "    <tr>\n",
       "      <th>2013-12-31 23:00:00</th>\n",
       "      <td>0.012207</td>\n",
       "      <td>68.06390</td>\n",
       "      <td>0.0</td>\n",
       "      <td>18.150879</td>\n",
       "      <td>83076.265625</td>\n",
       "    </tr>\n",
       "  </tbody>\n",
       "</table>\n",
       "</div>"
      ],
      "text/plain": [
       "                          z/L        RH  precipitationrate         GHI  \\\n",
       "datetime                                                                 \n",
       "2013-12-31 19:00:00  0.000000  62.54158                0.0  416.234300   \n",
       "2013-12-31 20:00:00  0.000610  62.24784                0.0  397.488300   \n",
       "2013-12-31 21:00:00  0.001831  65.35982                0.0  306.459230   \n",
       "2013-12-31 22:00:00  0.006714  66.29475                0.0  136.051510   \n",
       "2013-12-31 23:00:00  0.012207  68.06390                0.0   18.150879   \n",
       "\n",
       "                         pressure  \n",
       "datetime                           \n",
       "2013-12-31 19:00:00  83182.468750  \n",
       "2013-12-31 20:00:00  83128.453125  \n",
       "2013-12-31 21:00:00  83132.117188  \n",
       "2013-12-31 22:00:00  83117.468750  \n",
       "2013-12-31 23:00:00  83076.265625  "
      ]
     },
     "execution_count": 13,
     "metadata": {},
     "output_type": "execute_result"
    }
   ],
   "source": [
    "ts.tail()"
   ]
  },
  {
   "cell_type": "code",
   "execution_count": 14,
   "metadata": {},
   "outputs": [
    {
     "data": {
      "text/plain": [
       "count    26304.000000\n",
       "mean        56.314196\n",
       "std         35.511537\n",
       "min          0.000000\n",
       "25%         38.606754\n",
       "50%         55.262689\n",
       "75%         71.515779\n",
       "max        960.074160\n",
       "Name: RH, dtype: float64"
      ]
     },
     "execution_count": 14,
     "metadata": {},
     "output_type": "execute_result"
    }
   ],
   "source": [
    "ts['RH'].describe()"
   ]
  },
  {
   "cell_type": "markdown",
   "metadata": {},
   "source": [
    "### - figure out landuse information"
   ]
  },
  {
   "cell_type": "code",
   "execution_count": 15,
   "metadata": {},
   "outputs": [
    {
     "name": "stdout",
     "output_type": "stream",
     "text": [
      "Reading OLD\n",
      "Reading USGS\n",
      "Reading MODIFIED_IGBP_MODIS_NOAH\n",
      "Reading SiB\n",
      "Reading LW12\n",
      "Reading MODIS\n",
      "Reading SSIB\n"
     ]
    }
   ],
   "source": [
    "landuse = LandUseTable(landuse_path)"
   ]
  },
  {
   "cell_type": "code",
   "execution_count": 16,
   "metadata": {},
   "outputs": [
    {
     "data": {
      "text/html": [
       "<div>\n",
       "<style scoped>\n",
       "    .dataframe tbody tr th:only-of-type {\n",
       "        vertical-align: middle;\n",
       "    }\n",
       "\n",
       "    .dataframe tbody tr th {\n",
       "        vertical-align: top;\n",
       "    }\n",
       "\n",
       "    .dataframe thead th {\n",
       "        text-align: right;\n",
       "    }\n",
       "</style>\n",
       "<table border=\"1\" class=\"dataframe\">\n",
       "  <thead>\n",
       "    <tr style=\"text-align: right;\">\n",
       "      <th></th>\n",
       "      <th>albedo</th>\n",
       "      <th>soil_moisture_availability</th>\n",
       "      <th>surface_emissivity</th>\n",
       "      <th>roughness_length</th>\n",
       "      <th>thermal_inertia</th>\n",
       "      <th>snow_cover_effect</th>\n",
       "      <th>surface_heat_capacity</th>\n",
       "      <th>description</th>\n",
       "    </tr>\n",
       "    <tr>\n",
       "      <th>season</th>\n",
       "      <th></th>\n",
       "      <th></th>\n",
       "      <th></th>\n",
       "      <th></th>\n",
       "      <th></th>\n",
       "      <th></th>\n",
       "      <th></th>\n",
       "      <th></th>\n",
       "    </tr>\n",
       "  </thead>\n",
       "  <tbody>\n",
       "    <tr>\n",
       "      <th>SUMMER</th>\n",
       "      <td>0.2</td>\n",
       "      <td>0.15</td>\n",
       "      <td>0.95</td>\n",
       "      <td>0.06</td>\n",
       "      <td>3</td>\n",
       "      <td>2.14</td>\n",
       "      <td>2.08e+06</td>\n",
       "      <td>Mixed Shrubland/Grassland</td>\n",
       "    </tr>\n",
       "    <tr>\n",
       "      <th>WINTER</th>\n",
       "      <td>0.22</td>\n",
       "      <td>0.25</td>\n",
       "      <td>0.93</td>\n",
       "      <td>0.01</td>\n",
       "      <td>4</td>\n",
       "      <td>1.24</td>\n",
       "      <td>2.08e+06</td>\n",
       "      <td>Mixed Shrubland/Grassland</td>\n",
       "    </tr>\n",
       "  </tbody>\n",
       "</table>\n",
       "</div>"
      ],
      "text/plain": [
       "       albedo soil_moisture_availability surface_emissivity roughness_length  \\\n",
       "season                                                                         \n",
       "SUMMER    0.2                       0.15               0.95             0.06   \n",
       "WINTER   0.22                       0.25               0.93             0.01   \n",
       "\n",
       "       thermal_inertia snow_cover_effect surface_heat_capacity  \\\n",
       "season                                                           \n",
       "SUMMER               3              2.14              2.08e+06   \n",
       "WINTER               4              1.24              2.08e+06   \n",
       "\n",
       "                      description  \n",
       "season                             \n",
       "SUMMER  Mixed Shrubland/Grassland  \n",
       "WINTER  Mixed Shrubland/Grassland  "
      ]
     },
     "execution_count": 16,
     "metadata": {},
     "output_type": "execute_result"
    }
   ],
   "source": [
    "landuse[MMINLU].loc[landuse_idx]"
   ]
  },
  {
   "cell_type": "code",
   "execution_count": 17,
   "metadata": {},
   "outputs": [],
   "source": [
    "z0_summer = landuse[MMINLU].loc[(landuse_idx,'SUMMER'), 'roughness_length']\n",
    "z0_winter = landuse[MMINLU].loc[(landuse_idx,'WINTER'), 'roughness_length']"
   ]
  },
  {
   "cell_type": "code",
   "execution_count": 18,
   "metadata": {},
   "outputs": [],
   "source": [
    "# summer/winter definition from `WRF/phys/module_physics_init.F`\n",
    "# - is julday (\"julian day\"?) a misnomer in WRF??\n",
    "#julday = ts.index.to_julian_date()\n",
    "julday = ts.index.dayofyear\n",
    "ts['z0'] = z0_summer\n",
    "ts.loc[(julday < 105) | (julday > 288), 'z0'] = z0_winter"
   ]
  },
  {
   "cell_type": "markdown",
   "metadata": {},
   "source": [
    "## 2. Calculate additional atmospheric quantities"
   ]
  },
  {
   "cell_type": "code",
   "execution_count": 19,
   "metadata": {},
   "outputs": [],
   "source": [
    "Tv = T_to_Tv(df['temperature'], p=0.01*df['pressure'], RH=ts['RH'])"
   ]
  },
  {
   "cell_type": "code",
   "execution_count": 20,
   "metadata": {},
   "outputs": [],
   "source": [
    "df['density'] = df['pressure'] / Rd / Tv"
   ]
  },
  {
   "cell_type": "code",
   "execution_count": 21,
   "metadata": {},
   "outputs": [],
   "source": [
    "df['thetav'] = T_to_Tv(df['theta'], p=0.01*df['pressure'], RH=ts['RH'])\n",
    "df = df.drop(columns=['theta'])"
   ]
  },
  {
   "cell_type": "markdown",
   "metadata": {},
   "source": [
    "## 3. Calculate u*"
   ]
  },
  {
   "cell_type": "markdown",
   "metadata": {},
   "source": [
    "### - using WRF similarity function\n",
    "$U(z) = \\frac{u_*}{\\kappa} (\\log(z/z_0) - \\psi_m(z/L) + \\psi_m(z_0/L))$\n",
    "\n",
    "where $\\psi_m$ is given in: https://doi.org/10.1175/MWR-D-11-00056.1\n",
    "\n",
    "#### Notes:\n",
    "- Similarity functions not validated in complex terrain!\n",
    "- Terrain can introduce errors in $u_*$ through the vertical momentum fluxes\n",
    "- Terrain can also introduce errors in the heat flux, in which the correlation between $w'$ and $\\theta'$ dictate sign and therefore stability"
   ]
  },
  {
   "cell_type": "code",
   "execution_count": 22,
   "metadata": {},
   "outputs": [],
   "source": [
    "z = 10."
   ]
  },
  {
   "cell_type": "code",
   "execution_count": 23,
   "metadata": {},
   "outputs": [],
   "source": [
    "invL = ts['z/L'] / 2  # measurement height was at 2-m a.g.l."
   ]
  },
  {
   "cell_type": "code",
   "execution_count": 24,
   "metadata": {},
   "outputs": [],
   "source": [
    "denom = np.log(z/ts['z0']) - Jimenez_m(z*invL) + Jimenez_m(ts['z0']*invL)"
   ]
  },
  {
   "cell_type": "code",
   "execution_count": 25,
   "metadata": {},
   "outputs": [],
   "source": [
    "U_at_z = df['windspeed'].xs(z,level='height')"
   ]
  },
  {
   "cell_type": "code",
   "execution_count": 26,
   "metadata": {},
   "outputs": [],
   "source": [
    "ts['u*'] = k * U_at_z / denom"
   ]
  },
  {
   "cell_type": "code",
   "execution_count": 27,
   "metadata": {},
   "outputs": [
    {
     "data": {
      "text/plain": [
       "count    26304.000000\n",
       "mean         0.364613\n",
       "std          0.226152\n",
       "min          0.000338\n",
       "25%          0.187098\n",
       "50%          0.348030\n",
       "75%          0.509438\n",
       "max          1.469385\n",
       "Name: u*, dtype: float64"
      ]
     },
     "execution_count": 27,
     "metadata": {},
     "output_type": "execute_result"
    }
   ],
   "source": [
    "ts['u*'].describe()"
   ]
  },
  {
   "cell_type": "code",
   "execution_count": 28,
   "metadata": {},
   "outputs": [
    {
     "data": {
      "text/plain": [
       "Text(0, 0.5, 'hours')"
      ]
     },
     "execution_count": 28,
     "metadata": {},
     "output_type": "execute_result"
    },
    {
     "data": {
      "image/png": "[encoded data removed]",
      "text/plain": [
       "<Figure size 432x288 with 1 Axes>"
      ]
     },
     "metadata": {
      "needs_background": "light"
     },
     "output_type": "display_data"
    }
   ],
   "source": [
    "ax = ts['u*'].hist(bins=np.arange(0,1.21,0.025))\n",
    "plt.tick_params(labelsize='large')\n",
    "plt.xlabel(r'friction velocity [m s$^{-1}$]',fontsize='x-large')\n",
    "plt.ylabel(r'hours',fontsize='x-large')"
   ]
  },
  {
   "cell_type": "markdown",
   "metadata": {},
   "source": [
    "## 4. Calculate surface heat flux $\\overline{(\\theta'w')}_s$"
   ]
  },
  {
   "cell_type": "markdown",
   "metadata": {},
   "source": [
    "### - directly from $L \\equiv -\\frac{u_*^3\\bar{\\theta}}{\\kappa g \\overline{(\\theta'w')}_s}$"
   ]
  },
  {
   "cell_type": "code",
   "execution_count": 29,
   "metadata": {},
   "outputs": [],
   "source": [
    "T_at_z = df['thetav'].xs(z,level='height')"
   ]
  },
  {
   "cell_type": "code",
   "execution_count": 30,
   "metadata": {},
   "outputs": [],
   "source": [
    "Tw = -invL * ts['u*']**3 * T_at_z / (k*g)"
   ]
  },
  {
   "cell_type": "code",
   "execution_count": 31,
   "metadata": {},
   "outputs": [
    {
     "data": {
      "text/plain": [
       "count    26304.000000\n",
       "mean         0.138355\n",
       "std          0.332266\n",
       "min         -0.304841\n",
       "25%         -0.021217\n",
       "50%         -0.000490\n",
       "75%          0.119393\n",
       "max          3.266733\n",
       "dtype: float64"
      ]
     },
     "execution_count": 31,
     "metadata": {},
     "output_type": "execute_result"
    }
   ],
   "source": [
    "Tw.describe()"
   ]
  },
  {
   "cell_type": "code",
   "execution_count": 32,
   "metadata": {},
   "outputs": [
    {
     "data": {
      "text/plain": [
       "Text(0, 0.5, 'hours')"
      ]
     },
     "execution_count": 32,
     "metadata": {},
     "output_type": "execute_result"
    },
    {
     "data": {
      "image/png": "[encoded data removed]",
      "text/plain": [
       "<Figure size 432x288 with 1 Axes>"
      ]
     },
     "metadata": {
      "needs_background": "light"
     },
     "output_type": "display_data"
    }
   ],
   "source": [
    "ax = Tw.hist(bins=np.arange(-0.21,0.39,0.02))\n",
    "plt.tick_params(labelsize='large')\n",
    "plt.xlabel(r'kinematic heat flux [K m s$^{-1}$]',fontsize='x-large')\n",
    "plt.ylabel(r'hours',fontsize='x-large')"
   ]
  },
  {
   "cell_type": "code",
   "execution_count": 33,
   "metadata": {},
   "outputs": [],
   "source": [
    "# follow WRF convention, save heat flux as W/m^2\n",
    "ts['hfx'] = df['density'].xs(2.0,level='height') * Cp * Tw"
   ]
  },
  {
   "cell_type": "markdown",
   "metadata": {},
   "source": [
    "### - using WRF similarity function\n",
    "$\\theta(z) - \\theta_0 = \\frac{\\theta_*}{\\kappa} (\\log(z/z_0) - \\psi_h(z/L) + \\psi_h(z_0/L))$\n",
    "\n",
    "$\\theta_* \\equiv \\frac{-\\overline{(\\theta'w')}_s}{u_*}\n",
    "= \\frac{\\kappa(\\theta_2 - \\theta_1)} {\\log(z_2/z_1) - \\psi_h(z_2/L) + \\psi_h(z_1/L)}$\n",
    "e.g., as Holtslag2014\n",
    "\n",
    "Sanity check from the Obukhov stability parameter:\n",
    "$\\frac{z}{L} \\equiv \\frac{\\kappa g z}{\\theta_0}\\frac{\\theta_*}{u_*^2}$"
   ]
  },
  {
   "cell_type": "code",
   "execution_count": 34,
   "metadata": {},
   "outputs": [],
   "source": [
    "z1,z2 = 2.,10."
   ]
  },
  {
   "cell_type": "code",
   "execution_count": 35,
   "metadata": {},
   "outputs": [],
   "source": [
    "T1 = df['thetav'].xs(z1,level='height')\n",
    "T2 = df['thetav'].xs(z2,level='height')"
   ]
  },
  {
   "cell_type": "code",
   "execution_count": 36,
   "metadata": {},
   "outputs": [],
   "source": [
    "thetastar = k * (T2-T1) / (np.log(z2/z1) - Jimenez_h(z2*invL) + Jimenez_h(z1*invL))"
   ]
  },
  {
   "cell_type": "code",
   "execution_count": 37,
   "metadata": {},
   "outputs": [],
   "source": [
    "theta0 = T1 - thetastar/k*(np.log(z1/ts['z0']) - Jimenez_h(z1*invL) + Jimenez_h(ts['z0']*invL))"
   ]
  },
  {
   "cell_type": "code",
   "execution_count": 38,
   "metadata": {},
   "outputs": [
    {
     "data": {
      "text/plain": [
       "count    26304.000000\n",
       "mean        -0.016354\n",
       "std          3.499548\n",
       "min       -239.665200\n",
       "25%         -0.070502\n",
       "50%          0.042754\n",
       "75%          0.106196\n",
       "max         88.732839\n",
       "Name: thetav, dtype: float64"
      ]
     },
     "execution_count": 38,
     "metadata": {},
     "output_type": "execute_result"
    }
   ],
   "source": [
    "thetastar.describe()"
   ]
  },
  {
   "cell_type": "code",
   "execution_count": 39,
   "metadata": {},
   "outputs": [],
   "source": [
    "new_Tw = -thetastar*ts['u*']"
   ]
  },
  {
   "cell_type": "code",
   "execution_count": 40,
   "metadata": {},
   "outputs": [
    {
     "data": {
      "text/plain": [
       "count    26304.000000\n",
       "mean         0.024751\n",
       "std          1.654740\n",
       "min        -42.842242\n",
       "25%         -0.021824\n",
       "50%         -0.005734\n",
       "75%          0.031604\n",
       "max        126.652900\n",
       "dtype: float64"
      ]
     },
     "execution_count": 40,
     "metadata": {},
     "output_type": "execute_result"
    }
   ],
   "source": [
    "new_Tw.describe()"
   ]
  },
  {
   "cell_type": "code",
   "execution_count": 41,
   "metadata": {},
   "outputs": [
    {
     "data": {
      "text/plain": [
       "Text(0, 0.5, 'hours')"
      ]
     },
     "execution_count": 41,
     "metadata": {},
     "output_type": "execute_result"
    },
    {
     "data": {
      "image/png": "[encoded data removed]",
      "text/plain": [
       "<Figure size 432x288 with 1 Axes>"
      ]
     },
     "metadata": {
      "needs_background": "light"
     },
     "output_type": "display_data"
    }
   ],
   "source": [
    "ax = new_Tw.hist(bins=np.arange(-0.21,0.39,0.02))\n",
    "plt.tick_params(labelsize='large')\n",
    "plt.xlabel(r'kinematic heat flux [K m s$^{-1}$]',fontsize='x-large')\n",
    "plt.ylabel(r'hours',fontsize='x-large')"
   ]
  },
  {
   "cell_type": "code",
   "execution_count": 42,
   "metadata": {},
   "outputs": [
    {
     "name": "stdout",
     "output_type": "stream",
     "text": [
      "% of all samples binned: [85.05550486618004, 95.5139902676399]\n"
     ]
    },
    {
     "data": {
      "text/plain": [
       "<matplotlib.legend.Legend at 0x333847a90>"
      ]
     },
     "execution_count": 42,
     "metadata": {},
     "output_type": "execute_result"
    },
    {
     "data": {
      "image/png": "[encoded data removed]",
      "text/plain": [
       "<Figure size 432x288 with 1 Axes>"
      ]
     },
     "metadata": {
      "needs_background": "light"
     },
     "output_type": "display_data"
    }
   ],
   "source": [
    "fig,ax = plt.subplots()\n",
    "counts,bins,patches = ax.hist([Tw,new_Tw], bins=np.arange(-0.21,0.39,0.02))\n",
    "print('% of all samples binned:',[100*np.sum(cnt)/len(ts) for cnt in counts])\n",
    "\n",
    "ax.tick_params(labelsize='large')\n",
    "ax.set_xlabel(r'kinematic heat flux [K m s$^{-1}$]',fontsize='x-large')\n",
    "ax.set_ylabel(r'hours',fontsize='x-large')\n",
    "ax.grid(axis='y')\n",
    "ax.legend([r'$-u_*^3\\bar{\\theta} / (\\kappa g L)$',\n",
    "           r'$-\\theta_* u_*$'+'\\n'+r'with $\\theta_*$ from $\\theta(z)$ and $\\Psi_h$'], title=r'post $u_*$ calculation')"
   ]
  },
  {
   "cell_type": "markdown",
   "metadata": {},
   "source": [
    "#### SANITY CHECK(S)\n",
    "#### - does calculated $\\theta_*$ satisfy the original equations?"
   ]
  },
  {
   "cell_type": "code",
   "execution_count": 43,
   "metadata": {},
   "outputs": [],
   "source": [
    "LHS = T1 - thetastar/k*(np.log(z1/ts['z0']) - Jimenez_h(z1*invL) + Jimenez_h(ts['z0']*invL))\n",
    "RHS = T2 - thetastar/k*(np.log(z2/ts['z0']) - Jimenez_h(z2*invL) + Jimenez_h(ts['z0']*invL))\n",
    "assert np.allclose(LHS, RHS)\n",
    "assert np.allclose(LHS, theta0)\n",
    "assert np.allclose(RHS, theta0)"
   ]
  },
  {
   "cell_type": "code",
   "execution_count": 44,
   "metadata": {},
   "outputs": [],
   "source": [
    "assert np.allclose(np.log(z2/ts['z0']) - np.log(z1/ts['z0']), np.log(z2/z1))"
   ]
  },
  {
   "cell_type": "markdown",
   "metadata": {},
   "source": [
    "#### <font color='red'>- is the original $z/L$ close to the $z/L$ calculated from $u_*$ and $\\theta_*$?</font>\n",
    "- see notes in Section 2\n",
    "- see also similar results in `2a-calculate_QOIs_iterative.ipynb`"
   ]
  },
  {
   "cell_type": "code",
   "execution_count": 45,
   "metadata": {},
   "outputs": [],
   "source": [
    "new_z_L = 2.0*k*g/theta0 * thetastar / ts['u*']**2"
   ]
  },
  {
   "cell_type": "code",
   "execution_count": 46,
   "metadata": {},
   "outputs": [
    {
     "data": {
      "text/plain": [
       "Text(0.5, 1.0, '$z/L$')"
      ]
     },
     "execution_count": 46,
     "metadata": {},
     "output_type": "execute_result"
    },
    {
     "data": {
      "image/png": "[encoded data removed]",
      "text/plain": [
       "<Figure size 432x360 with 1 Axes>"
      ]
     },
     "metadata": {
      "needs_background": "light"
     },
     "output_type": "display_data"
    }
   ],
   "source": [
    "fig,ax = plt.subplots(figsize=(6,5))\n",
    "ax.scatter(ts['z/L'], new_z_L, alpha=0.05)\n",
    "minmax = (-0.04, 0.2)\n",
    "ax.plot(minmax, minmax, 'r')\n",
    "ax.set_xlim(minmax)\n",
    "ax.set_ylim(minmax)\n",
    "ax.tick_params(labelsize='large')\n",
    "ax.set_xlabel(r'from WIND Toolkit [m$^{-1}$]', fontsize='x-large')\n",
    "ax.set_ylabel(r'calculated from $u_*$, $\\theta_*$ [m$^{-1}$]', fontsize='x-large')\n",
    "ax.set_title(r'$z/L$', fontsize='xx-large')\n",
    "#fig.savefig(os.path.join(figdir,'similarity_func_err.png'),bbox_inches='tight')"
   ]
  },
  {
   "cell_type": "markdown",
   "metadata": {},
   "source": [
    "### 5. Calculate bulk Richardson number"
   ]
  },
  {
   "cell_type": "code",
   "execution_count": 47,
   "metadata": {},
   "outputs": [],
   "source": [
    "zlow,zhigh = 10., 40."
   ]
  },
  {
   "cell_type": "code",
   "execution_count": 48,
   "metadata": {},
   "outputs": [],
   "source": [
    "dz = zhigh - zlow\n",
    "low = df.xs(zlow,level='height')\n",
    "high = df.xs(zhigh,level='height')"
   ]
  },
  {
   "cell_type": "code",
   "execution_count": 49,
   "metadata": {},
   "outputs": [],
   "source": [
    "T0 = df['thetav'].xs(2.0,level='height')"
   ]
  },
  {
   "cell_type": "code",
   "execution_count": 50,
   "metadata": {},
   "outputs": [],
   "source": [
    "ts['Ri'] = g/T0 * (high['thetav'] - low['thetav']) * dz / (high['windspeed'] - low['windspeed'])**2"
   ]
  },
  {
   "cell_type": "markdown",
   "metadata": {},
   "source": [
    "### 6. Save new data"
   ]
  },
  {
   "cell_type": "code",
   "execution_count": 51,
   "metadata": {},
   "outputs": [
    {
     "data": {
      "text/html": [
       "<div>\n",
       "<style scoped>\n",
       "    .dataframe tbody tr th:only-of-type {\n",
       "        vertical-align: middle;\n",
       "    }\n",
       "\n",
       "    .dataframe tbody tr th {\n",
       "        vertical-align: top;\n",
       "    }\n",
       "\n",
       "    .dataframe thead th {\n",
       "        text-align: right;\n",
       "    }\n",
       "</style>\n",
       "<table border=\"1\" class=\"dataframe\">\n",
       "  <thead>\n",
       "    <tr style=\"text-align: right;\">\n",
       "      <th></th>\n",
       "      <th>z/L</th>\n",
       "      <th>RH</th>\n",
       "      <th>precipitationrate</th>\n",
       "      <th>GHI</th>\n",
       "      <th>pressure</th>\n",
       "      <th>z0</th>\n",
       "      <th>u*</th>\n",
       "      <th>hfx</th>\n",
       "      <th>Ri</th>\n",
       "    </tr>\n",
       "    <tr>\n",
       "      <th>datetime</th>\n",
       "      <th></th>\n",
       "      <th></th>\n",
       "      <th></th>\n",
       "      <th></th>\n",
       "      <th></th>\n",
       "      <th></th>\n",
       "      <th></th>\n",
       "      <th></th>\n",
       "      <th></th>\n",
       "    </tr>\n",
       "  </thead>\n",
       "  <tbody>\n",
       "    <tr>\n",
       "      <th>2011-01-01 00:00:00</th>\n",
       "      <td>-0.005493</td>\n",
       "      <td>76.10568</td>\n",
       "      <td>0.732422</td>\n",
       "      <td>0.0</td>\n",
       "      <td>82520.523438</td>\n",
       "      <td>0.01</td>\n",
       "      <td>0.488319</td>\n",
       "      <td>23.511533</td>\n",
       "      <td>-0.042421</td>\n",
       "    </tr>\n",
       "    <tr>\n",
       "      <th>2011-01-01 01:00:00</th>\n",
       "      <td>-0.007324</td>\n",
       "      <td>76.53035</td>\n",
       "      <td>0.732422</td>\n",
       "      <td>0.0</td>\n",
       "      <td>82549.820312</td>\n",
       "      <td>0.01</td>\n",
       "      <td>0.440878</td>\n",
       "      <td>23.079022</td>\n",
       "      <td>-0.047499</td>\n",
       "    </tr>\n",
       "    <tr>\n",
       "      <th>2011-01-01 02:00:00</th>\n",
       "      <td>-0.006714</td>\n",
       "      <td>74.86862</td>\n",
       "      <td>0.366211</td>\n",
       "      <td>0.0</td>\n",
       "      <td>82559.890625</td>\n",
       "      <td>0.01</td>\n",
       "      <td>0.440988</td>\n",
       "      <td>21.174711</td>\n",
       "      <td>-0.017757</td>\n",
       "    </tr>\n",
       "    <tr>\n",
       "      <th>2011-01-01 03:00:00</th>\n",
       "      <td>-0.006714</td>\n",
       "      <td>76.02008</td>\n",
       "      <td>0.000000</td>\n",
       "      <td>0.0</td>\n",
       "      <td>82550.734375</td>\n",
       "      <td>0.01</td>\n",
       "      <td>0.407729</td>\n",
       "      <td>16.734850</td>\n",
       "      <td>-0.018796</td>\n",
       "    </tr>\n",
       "    <tr>\n",
       "      <th>2011-01-01 04:00:00</th>\n",
       "      <td>-0.010987</td>\n",
       "      <td>79.47447</td>\n",
       "      <td>0.732422</td>\n",
       "      <td>0.0</td>\n",
       "      <td>82562.640625</td>\n",
       "      <td>0.01</td>\n",
       "      <td>0.377586</td>\n",
       "      <td>21.750063</td>\n",
       "      <td>-0.031577</td>\n",
       "    </tr>\n",
       "  </tbody>\n",
       "</table>\n",
       "</div>"
      ],
      "text/plain": [
       "                          z/L        RH  precipitationrate  GHI      pressure  \\\n",
       "datetime                                                                        \n",
       "2011-01-01 00:00:00 -0.005493  76.10568           0.732422  0.0  82520.523438   \n",
       "2011-01-01 01:00:00 -0.007324  76.53035           0.732422  0.0  82549.820312   \n",
       "2011-01-01 02:00:00 -0.006714  74.86862           0.366211  0.0  82559.890625   \n",
       "2011-01-01 03:00:00 -0.006714  76.02008           0.000000  0.0  82550.734375   \n",
       "2011-01-01 04:00:00 -0.010987  79.47447           0.732422  0.0  82562.640625   \n",
       "\n",
       "                       z0        u*        hfx        Ri  \n",
       "datetime                                                  \n",
       "2011-01-01 00:00:00  0.01  0.488319  23.511533 -0.042421  \n",
       "2011-01-01 01:00:00  0.01  0.440878  23.079022 -0.047499  \n",
       "2011-01-01 02:00:00  0.01  0.440988  21.174711 -0.017757  \n",
       "2011-01-01 03:00:00  0.01  0.407729  16.734850 -0.018796  \n",
       "2011-01-01 04:00:00  0.01  0.377586  21.750063 -0.031577  "
      ]
     },
     "execution_count": 51,
     "metadata": {},
     "output_type": "execute_result"
    }
   ],
   "source": [
    "ts.head()"
   ]
  },
  {
   "cell_type": "code",
   "execution_count": 52,
   "metadata": {},
   "outputs": [
    {
     "name": "stdout",
     "output_type": "stream",
     "text": [
      "CPU times: user 648 ms, sys: 11.5 ms, total: 659 ms\n",
      "Wall time: 669 ms\n"
     ]
    }
   ],
   "source": [
    "%time ts.to_csv(os.path.join(compressed_output,'WTK_ts.calc.csv.gz'), compression='gzip')\n"
   ]
  },
  {
   "cell_type": "code",
   "execution_count": 53,
   "metadata": {},
   "outputs": [
    {
     "data": {
      "text/html": [
       "<div>\n",
       "<style scoped>\n",
       "    .dataframe tbody tr th:only-of-type {\n",
       "        vertical-align: middle;\n",
       "    }\n",
       "\n",
       "    .dataframe tbody tr th {\n",
       "        vertical-align: top;\n",
       "    }\n",
       "\n",
       "    .dataframe thead th {\n",
       "        text-align: right;\n",
       "    }\n",
       "</style>\n",
       "<table border=\"1\" class=\"dataframe\">\n",
       "  <thead>\n",
       "    <tr style=\"text-align: right;\">\n",
       "      <th></th>\n",
       "      <th></th>\n",
       "      <th>pressure</th>\n",
       "      <th>temperature</th>\n",
       "      <th>winddirection</th>\n",
       "      <th>windspeed</th>\n",
       "      <th>density</th>\n",
       "      <th>thetav</th>\n",
       "    </tr>\n",
       "    <tr>\n",
       "      <th>datetime</th>\n",
       "      <th>height</th>\n",
       "      <th></th>\n",
       "      <th></th>\n",
       "      <th></th>\n",
       "      <th></th>\n",
       "      <th></th>\n",
       "      <th></th>\n",
       "    </tr>\n",
       "  </thead>\n",
       "  <tbody>\n",
       "    <tr>\n",
       "      <th rowspan=\"5\" valign=\"top\">2011-01-01</th>\n",
       "      <th>2.0</th>\n",
       "      <td>82498.458594</td>\n",
       "      <td>255.697800</td>\n",
       "      <td>NaN</td>\n",
       "      <td>NaN</td>\n",
       "      <td>1.123574</td>\n",
       "      <td>255.856046</td>\n",
       "    </tr>\n",
       "    <tr>\n",
       "      <th>10.0</th>\n",
       "      <td>82410.199219</td>\n",
       "      <td>255.481125</td>\n",
       "      <td>299.963379</td>\n",
       "      <td>8.313240</td>\n",
       "      <td>1.123335</td>\n",
       "      <td>255.716036</td>\n",
       "    </tr>\n",
       "    <tr>\n",
       "      <th>40.0</th>\n",
       "      <td>82079.226562</td>\n",
       "      <td>255.139313</td>\n",
       "      <td>300.045776</td>\n",
       "      <td>9.454636</td>\n",
       "      <td>1.120337</td>\n",
       "      <td>255.667990</td>\n",
       "    </tr>\n",
       "    <tr>\n",
       "      <th>60.0</th>\n",
       "      <td>81858.578125</td>\n",
       "      <td>254.940948</td>\n",
       "      <td>299.974365</td>\n",
       "      <td>9.753716</td>\n",
       "      <td>1.118203</td>\n",
       "      <td>255.666316</td>\n",
       "    </tr>\n",
       "    <tr>\n",
       "      <th>80.0</th>\n",
       "      <td>81637.929688</td>\n",
       "      <td>254.760895</td>\n",
       "      <td>299.842529</td>\n",
       "      <td>9.961243</td>\n",
       "      <td>1.115984</td>\n",
       "      <td>255.683616</td>\n",
       "    </tr>\n",
       "  </tbody>\n",
       "</table>\n",
       "</div>"
      ],
      "text/plain": [
       "                       pressure  temperature  winddirection  windspeed  \\\n",
       "datetime   height                                                        \n",
       "2011-01-01 2.0     82498.458594   255.697800            NaN        NaN   \n",
       "           10.0    82410.199219   255.481125     299.963379   8.313240   \n",
       "           40.0    82079.226562   255.139313     300.045776   9.454636   \n",
       "           60.0    81858.578125   254.940948     299.974365   9.753716   \n",
       "           80.0    81637.929688   254.760895     299.842529   9.961243   \n",
       "\n",
       "                    density      thetav  \n",
       "datetime   height                        \n",
       "2011-01-01 2.0     1.123574  255.856046  \n",
       "           10.0    1.123335  255.716036  \n",
       "           40.0    1.120337  255.667990  \n",
       "           60.0    1.118203  255.666316  \n",
       "           80.0    1.115984  255.683616  "
      ]
     },
     "execution_count": 53,
     "metadata": {},
     "output_type": "execute_result"
    }
   ],
   "source": [
    "df.head()"
   ]
  },
  {
   "cell_type": "code",
   "execution_count": 54,
   "metadata": {},
   "outputs": [
    {
     "name": "stdout",
     "output_type": "stream",
     "text": [
      "CPU times: user 5.85 s, sys: 97.1 ms, total: 5.94 s\n",
      "Wall time: 5.95 s\n"
     ]
    }
   ],
   "source": [
    "%time df.to_csv(os.path.join(compressed_output,'WTK.calc.csv.gz'), compression='gzip')\n",
    "\n",
    "# CPU times: user 5.59 s, sys: 103 ms, total: 5.69 s\n",
    "# Wall time: 5.72 s"
   ]
  }
 ],
 "metadata": {
  "kernelspec": {
   "display_name": "Python 3",
   "language": "python",
   "name": "python3"
  },
  "language_info": {
   "codemirror_mode": {
    "name": "ipython",
    "version": 3
   },
   "file_extension": ".py",
   "mimetype": "text/x-python",
   "name": "python",
   "nbconvert_exporter": "python",
   "pygments_lexer": "ipython3",
   "version": "3.7.1"
  }
 },
 "nbformat": 4,
 "nbformat_minor": 2
}
